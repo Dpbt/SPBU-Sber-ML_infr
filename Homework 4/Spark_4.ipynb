{
  "nbformat": 4,
  "nbformat_minor": 0,
  "metadata": {
    "colab": {
      "provenance": []
    },
    "kernelspec": {
      "name": "python3",
      "display_name": "Python 3"
    },
    "language_info": {
      "name": "python"
    }
  },
  "cells": [
    {
      "cell_type": "code",
      "execution_count": 1,
      "metadata": {
        "colab": {
          "base_uri": "https://localhost:8080/"
        },
        "id": "99StDu7bnAuU",
        "outputId": "86e8dd14-bc5b-4ac2-d9c4-7cec4836affc"
      },
      "outputs": [
        {
          "output_type": "stream",
          "name": "stdout",
          "text": [
            "Requirement already satisfied: pyspark in /usr/local/lib/python3.10/dist-packages (3.5.3)\n",
            "Requirement already satisfied: findspark in /usr/local/lib/python3.10/dist-packages (2.0.1)\n",
            "Requirement already satisfied: py4j==0.10.9.7 in /usr/local/lib/python3.10/dist-packages (from pyspark) (0.10.9.7)\n"
          ]
        }
      ],
      "source": [
        "!pip install pyspark findspark"
      ]
    },
    {
      "cell_type": "code",
      "source": [
        "from pyspark.sql import SparkSession\n",
        "from pyspark import SparkContext, SparkConf\n",
        "\n",
        "conf = SparkConf().set('spark.ui.port', '4050').set('spark.serializer', 'org.apache.spark.serializer.KryoSerializer')\\\n",
        "                  .set('spark.dynamicAllocation.enabled', 'true')\\\n",
        "                  .set('spark.shuffle.service.enabled', 'true') #трекер, чтобы возвращать ресурсы\n",
        "sc = SparkContext(conf=conf)\n",
        "spark = SparkSession.builder.master('local[*]').getOrCreate()"
      ],
      "metadata": {
        "id": "3LtM_gOOnIPk"
      },
      "execution_count": 2,
      "outputs": []
    },
    {
      "cell_type": "code",
      "source": [
        "from pyspark.sql.functions import col, isnan, when, count\n",
        "from pyspark.ml.feature import Imputer\n",
        "import pyspark.sql.functions as F\n",
        "from pyspark.ml.feature import StringIndexer, IndexToString, OneHotEncoder\n",
        "from pyspark.ml.feature import QuantileDiscretizer\n",
        "from pyspark.ml.feature import VectorAssembler\n",
        "from pyspark.ml.tuning import ParamGridBuilder, TrainValidationSplit, CrossValidator\n",
        "from pyspark.ml.classification import LogisticRegression, LogisticRegressionModel\n",
        "from pyspark.ml import Pipeline\n",
        "from pyspark.ml.evaluation import BinaryClassificationEvaluator"
      ],
      "metadata": {
        "id": "Vk7QwMzawZ7v"
      },
      "execution_count": 3,
      "outputs": []
    },
    {
      "cell_type": "code",
      "source": [
        "data = spark.read.csv('Train_Set_90621.csv', header=True, inferSchema=True)"
      ],
      "metadata": {
        "id": "ULqXYdABnINN"
      },
      "execution_count": 4,
      "outputs": []
    },
    {
      "cell_type": "code",
      "source": [
        "data = data.drop('Amount Defaulted')"
      ],
      "metadata": {
        "id": "9NOxPNw3nIKD"
      },
      "execution_count": 5,
      "outputs": []
    },
    {
      "cell_type": "markdown",
      "source": [
        "### Информация о датасете"
      ],
      "metadata": {
        "id": "c6jx9PNC9Ct_"
      }
    },
    {
      "cell_type": "code",
      "source": [
        "data.printSchema()"
      ],
      "metadata": {
        "id": "e2PW3FBFIdST",
        "colab": {
          "base_uri": "https://localhost:8080/"
        },
        "collapsed": true,
        "outputId": "ac09ca79-5e0e-4289-e746-8e37368a24a5"
      },
      "execution_count": 6,
      "outputs": [
        {
          "output_type": "stream",
          "name": "stdout",
          "text": [
            "root\n",
            " |-- Application ID: integer (nullable = true)\n",
            " |-- Bank Masked: string (nullable = true)\n",
            " |-- Bank Type: string (nullable = true)\n",
            " |-- Approved_Timestamp: string (nullable = true)\n",
            " |-- Name Masked: string (nullable = true)\n",
            " |-- Business Owner State: string (nullable = true)\n",
            " |-- Business_Industry_Type_Code: integer (nullable = true)\n",
            " |-- Approved_Year: integer (nullable = true)\n",
            " |-- New Business: integer (nullable = true)\n",
            " |-- Term: integer (nullable = true)\n",
            " |-- BankState: string (nullable = true)\n",
            " |-- Interest Rate: integer (nullable = true)\n",
            " |-- Employees: integer (nullable = true)\n",
            " |-- Gross Disbursed Amount: integer (nullable = true)\n",
            " |-- Term_years: integer (nullable = true)\n",
            " |-- Jobs Retained: integer (nullable = true)\n",
            " |-- Male to Female Employees Ratio: integer (nullable = true)\n",
            " |-- Expected Company Income: long (nullable = true)\n",
            " |-- Funds available with company: integer (nullable = true)\n",
            " |-- Gross_Apprv_Amount: integer (nullable = true)\n",
            " |-- Company Branch Code: integer (nullable = true)\n",
            " |-- City or Rural: integer (nullable = true)\n",
            " |-- Jobs Generated: integer (nullable = true)\n",
            " |-- Carry-forward Credit: string (nullable = true)\n",
            " |-- Documents Provided: string (nullable = true)\n",
            " |-- Balance Left: integer (nullable = true)\n",
            " |-- Final_Appved_Amount: integer (nullable = true)\n",
            " |-- Default_Status: integer (nullable = true)\n",
            "\n"
          ]
        }
      ]
    },
    {
      "cell_type": "code",
      "source": [
        "data.describe().show(truncate=False)"
      ],
      "metadata": {
        "colab": {
          "base_uri": "https://localhost:8080/"
        },
        "collapsed": true,
        "id": "b9Ut7ZvMFtf6",
        "outputId": "e8f44810-176e-4293-bbc6-d2ba585d31cb"
      },
      "execution_count": 7,
      "outputs": [
        {
          "output_type": "stream",
          "name": "stdout",
          "text": [
            "+-------+-----------------+---------------+---------+------------------+-------------------+--------------------+---------------------------+-----------------+-------------------+------------------+-----------+-----------------+------------------+----------------------+-----------------+------------------+------------------------------+-----------------------+----------------------------+--------------------+-------------------+------------------+------------------+--------------------+------------------+-----------------+--------------------+-------------------+\n",
            "|summary|Application ID   |Bank Masked    |Bank Type|Approved_Timestamp|Name Masked        |Business Owner State|Business_Industry_Type_Code|Approved_Year    |New Business       |Term              |BankState  |Interest Rate    |Employees         |Gross Disbursed Amount|Term_years       |Jobs Retained     |Male to Female Employees Ratio|Expected Company Income|Funds available with company|Gross_Apprv_Amount  |Company Branch Code|City or Rural     |Jobs Generated    |Carry-forward Credit|Documents Provided|Balance Left     |Final_Appved_Amount |Default_Status     |\n",
            "+-------+-----------------+---------------+---------+------------------+-------------------+--------------------+---------------------------+-----------------+-------------------+------------------+-----------+-----------------+------------------+----------------------+-----------------+------------------+------------------------------+-----------------------+----------------------------+--------------------+-------------------+------------------+------------------+--------------------+------------------+-----------------+--------------------+-------------------+\n",
            "|count  |195118           |195038         |195038   |194692            |195117             |195115              |195118                     |195118           |195082             |195118            |195037     |195118           |195118            |195118                |195118           |195118            |195118                        |195115                 |195118                      |195118              |195118             |195118            |195118            |194140              |194566            |195118           |195118              |195118             |\n",
            "|mean   |1.0202975595E9   |NULL           |NULL     |NULL              |NULL               |NULL                |399104.7059881713          |2008.122751360715|1.2793030623020063 |110.73985998216465|0.0        |7.327914390266403|19.122981990385306|1.414491644937935E7   |9.245461720599842|11.418362221834991|15.32921104152359             |1.8325220522256106E7   |1253178.777488494           |1.3565614745999856E7|2812.721501860413  |0.7546971576174417|9.055151241812647 |NULL                |NULL              |9.18418597976609 |1.052897772045634E7 |0.18059840711774414|\n",
            "|stddev |56325.85924925306|NULL           |NULL     |NULL              |NULL               |NULL                |263815.88967135985         |6.256458086968017|0.45111900679753353|78.8517723449656  |0.0        |2.97771377479778 |130.03260689491435|2.0299306581284165E7  |6.569698906552671|248.7441977059397 |11.791946682111               |1.75906858249903E8     |645567.0835725039           |1.996955197290655E7 |12897.919612614    |0.6469141971067718|248.31703711245234|NULL                |NULL              |3962.911449725469|1.6101767759185832E7|0.3846860809731266 |\n",
            "|min    |1020200001       |Bank_Name_1    |Govt     |01-01-2001        |Business_Name_1    |Delhi               |1230                       |1900             |0                  |0                 |0          |2                |0                 |0                     |0                |0                 |1                             |0                      |100002                      |14000               |0                  |0                 |0                 |N                   |N                 |0                |7000                |0                  |\n",
            "|max    |1020395118       |Bank_Number_999|Private  |31-12-2016        |Business_Name_99999|Uttarakhand         |929351                     |2017             |2                  |461               |Uttarakhand|12               |22222             |732550000             |38               |8800              |50                            |43200000000            |2500000                     |350000000           |92000              |2                 |8800              |Y                   |Y                 |1750000          |315000000           |1                  |\n",
            "+-------+-----------------+---------------+---------+------------------+-------------------+--------------------+---------------------------+-----------------+-------------------+------------------+-----------+-----------------+------------------+----------------------+-----------------+------------------+------------------------------+-----------------------+----------------------------+--------------------+-------------------+------------------+------------------+--------------------+------------------+-----------------+--------------------+-------------------+\n",
            "\n"
          ]
        }
      ]
    },
    {
      "cell_type": "code",
      "source": [
        "data.groupBy(\"Default_Status\").count().show()"
      ],
      "metadata": {
        "colab": {
          "base_uri": "https://localhost:8080/"
        },
        "collapsed": true,
        "id": "jQZzEKaHFtc4",
        "outputId": "625786fb-9754-42d9-96e3-58c0625b1256"
      },
      "execution_count": 8,
      "outputs": [
        {
          "output_type": "stream",
          "name": "stdout",
          "text": [
            "+--------------+------+\n",
            "|Default_Status| count|\n",
            "+--------------+------+\n",
            "|             1| 35238|\n",
            "|             0|159880|\n",
            "+--------------+------+\n",
            "\n"
          ]
        }
      ]
    },
    {
      "cell_type": "code",
      "source": [
        "data.select(col('Default_Status'))\\\n",
        "    .groupBy('Default_Status')\\\n",
        "    .count()\\\n",
        "    .withColumn('count', F.round(col('count') / data.count(), 2))\\\n",
        "    .show()"
      ],
      "metadata": {
        "collapsed": true,
        "colab": {
          "base_uri": "https://localhost:8080/"
        },
        "id": "Nc4L0xwv9qo-",
        "outputId": "241491c4-41b9-4a78-c9f2-728ef6bddce9"
      },
      "execution_count": 9,
      "outputs": [
        {
          "output_type": "stream",
          "name": "stdout",
          "text": [
            "+--------------+-----+\n",
            "|Default_Status|count|\n",
            "+--------------+-----+\n",
            "|             1| 0.18|\n",
            "|             0| 0.82|\n",
            "+--------------+-----+\n",
            "\n"
          ]
        }
      ]
    },
    {
      "cell_type": "code",
      "source": [
        "numeric_columns = [col for col in data.columns if data.schema[col].dataType.typeName() in ['double', 'integer', 'long']]\n",
        "for col in numeric_columns:\n",
        "    correlation = data.stat.corr(col, \"Default_Status\")\n",
        "    print(f\"Корреляция {col} с Default_Status: {correlation}\")"
      ],
      "metadata": {
        "colab": {
          "base_uri": "https://localhost:8080/"
        },
        "collapsed": true,
        "id": "2QSauijZFtRg",
        "outputId": "992d5d56-fd7d-4b15-c715-c0ed33ffe7fa"
      },
      "execution_count": 10,
      "outputs": [
        {
          "output_type": "stream",
          "name": "stdout",
          "text": [
            "Корреляция Application ID с Default_Status: 0.0004897409913387303\n",
            "Корреляция Business_Industry_Type_Code с Default_Status: 0.001954567609753214\n",
            "Корреляция Approved_Year с Default_Status: 0.004711407986061488\n",
            "Корреляция New Business с Default_Status: 0.010631943790759978\n",
            "Корреляция Term с Default_Status: -0.2094716935506866\n",
            "Корреляция Interest Rate с Default_Status: -0.00037157022236418983\n",
            "Корреляция Employees с Default_Status: -0.023560912222720533\n",
            "Корреляция Gross Disbursed Amount с Default_Status: -0.07374871112938776\n",
            "Корреляция Term_years с Default_Status: -0.2087603424024912\n",
            "Корреляция Jobs Retained с Default_Status: 0.00930699847415052\n",
            "Корреляция Male to Female Employees Ratio с Default_Status: 0.013158289621686445\n",
            "Корреляция Expected Company Income с Default_Status: -0.0021448440079916355\n",
            "Корреляция Funds available with company с Default_Status: -0.002987595229433365\n",
            "Корреляция Gross_Apprv_Amount с Default_Status: -0.07992792907580182\n",
            "Корреляция Company Branch Code с Default_Status: -0.016107195914179674\n",
            "Корреляция City or Rural с Default_Status: 0.10521703770267812\n",
            "Корреляция Jobs Generated с Default_Status: 0.00926741514524573\n",
            "Корреляция Balance Left с Default_Status: -0.0009468181650562512\n",
            "Корреляция Final_Appved_Amount с Default_Status: -0.0876771257219827\n",
            "Корреляция Default_Status с Default_Status: 1.0\n"
          ]
        }
      ]
    },
    {
      "cell_type": "code",
      "source": [
        "categorical_columns = [col for col in data.columns if data.schema[col].dataType.typeName() in ['string', 'boolean']]\n",
        "for col in categorical_columns:\n",
        "    print(f\"\\nТоп 5 значений для {col}:\")\n",
        "    data.groupBy(col).count().orderBy(\"count\", ascending=False).show(5, truncate=False)"
      ],
      "metadata": {
        "colab": {
          "base_uri": "https://localhost:8080/"
        },
        "collapsed": true,
        "id": "O0EtX9MTGPbm",
        "outputId": "db357633-ea8f-49d6-b675-cd2d41539573"
      },
      "execution_count": 11,
      "outputs": [
        {
          "output_type": "stream",
          "name": "stdout",
          "text": [
            "\n",
            "Топ 5 значений для Bank Masked:\n",
            "+--------------+-----+\n",
            "|Bank Masked   |count|\n",
            "+--------------+-----+\n",
            "|Bank_Name_42  |9133 |\n",
            "|Bank_Name_3   |6688 |\n",
            "|Bank_Number_13|6021 |\n",
            "|Bank_Name_11  |4903 |\n",
            "|Bank_Number_37|4436 |\n",
            "+--------------+-----+\n",
            "only showing top 5 rows\n",
            "\n",
            "\n",
            "Топ 5 значений для Bank Type:\n",
            "+---------+------+\n",
            "|Bank Type|count |\n",
            "+---------+------+\n",
            "|Private  |130150|\n",
            "|Govt     |64888 |\n",
            "|NULL     |80    |\n",
            "+---------+------+\n",
            "\n",
            "\n",
            "Топ 5 значений для Approved_Timestamp:\n",
            "+------------------+-----+\n",
            "|Approved_Timestamp|count|\n",
            "+------------------+-----+\n",
            "|NULL              |426  |\n",
            "|13-07-2009        |210  |\n",
            "|15-09-2011        |157  |\n",
            "|16-09-2011        |152  |\n",
            "|31-05-2011        |150  |\n",
            "+------------------+-----+\n",
            "only showing top 5 rows\n",
            "\n",
            "\n",
            "Топ 5 значений для Name Masked:\n",
            "+------------------+-----+\n",
            "|Name Masked       |count|\n",
            "+------------------+-----+\n",
            "|Business_Name_39  |91   |\n",
            "|Business_Name_355 |30   |\n",
            "|Business_Name_1807|28   |\n",
            "|Business_Name_2404|28   |\n",
            "|Business_Name_2602|27   |\n",
            "+------------------+-----+\n",
            "only showing top 5 rows\n",
            "\n",
            "\n",
            "Топ 5 значений для Business Owner State:\n",
            "+--------------------+-----+\n",
            "|Business Owner State|count|\n",
            "+--------------------+-----+\n",
            "|Delhi               |58546|\n",
            "|Haryana             |56421|\n",
            "|Maharashtra         |48088|\n",
            "|Uttar Pradesh       |24167|\n",
            "|Orissa              |2603 |\n",
            "+--------------------+-----+\n",
            "only showing top 5 rows\n",
            "\n",
            "\n",
            "Топ 5 значений для BankState:\n",
            "+-------------+-----+\n",
            "|BankState    |count|\n",
            "+-------------+-----+\n",
            "|Delhi        |74016|\n",
            "|Maharashtra  |60322|\n",
            "|Haryana      |39331|\n",
            "|Uttar Pradesh|16083|\n",
            "|Orissa       |1996 |\n",
            "+-------------+-----+\n",
            "only showing top 5 rows\n",
            "\n",
            "\n",
            "Топ 5 значений для Carry-forward Credit:\n",
            "+--------------------+------+\n",
            "|Carry-forward Credit|count |\n",
            "+--------------------+------+\n",
            "|N                   |147350|\n",
            "|Y                   |46790 |\n",
            "|NULL                |978   |\n",
            "+--------------------+------+\n",
            "\n",
            "\n",
            "Топ 5 значений для Documents Provided:\n",
            "+------------------+------+\n",
            "|Documents Provided|count |\n",
            "+------------------+------+\n",
            "|N                 |170021|\n",
            "|Y                 |24545 |\n",
            "|NULL              |552   |\n",
            "+------------------+------+\n",
            "\n"
          ]
        }
      ]
    },
    {
      "source": [
        "print(\"\\nСтатистики для числовых столбцов:\")\n",
        "for col in numeric_columns:\n",
        "    # Enclose column name in backticks if it contains spaces\n",
        "    stats = data.select(F.mean(col).alias(\"mean\"),\n",
        "                        F.expr(f\"percentile_approx(`{col}`, 0.5)\").alias(\"median\"),  # Для медианы\n",
        "                        F.stddev(col).alias(\"stddev\")).collect()[0]\n",
        "    print(f\"Статистика для {col}:\")\n",
        "    print(f\"  Среднее: {stats['mean']}\")\n",
        "    print(f\"  Медиана: {stats['median']}\")\n",
        "    print(f\"  Стандартное отклонение: {stats['stddev']}\")"
      ],
      "cell_type": "code",
      "metadata": {
        "colab": {
          "base_uri": "https://localhost:8080/"
        },
        "collapsed": true,
        "id": "7xh4G56_GfV0",
        "outputId": "c270217c-6106-4a50-b42f-0df8988dc3ad"
      },
      "execution_count": 12,
      "outputs": [
        {
          "output_type": "stream",
          "name": "stdout",
          "text": [
            "\n",
            "Статистики для числовых столбцов:\n",
            "Статистика для Application ID:\n",
            "  Среднее: 1020297559.5\n",
            "  Медиана: 1020297541\n",
            "  Стандартное отклонение: 56325.85924925306\n",
            "Статистика для Business_Industry_Type_Code:\n",
            "  Среднее: 399104.7059881713\n",
            "  Медиана: 446541\n",
            "  Стандартное отклонение: 263815.88967135985\n",
            "Статистика для Approved_Year:\n",
            "  Среднее: 2008.122751360715\n",
            "  Медиана: 2009\n",
            "  Стандартное отклонение: 6.256458086968017\n",
            "Статистика для New Business:\n",
            "  Среднее: 1.2793030623020063\n",
            "  Медиана: 1\n",
            "  Стандартное отклонение: 0.45111900679753353\n",
            "Статистика для Term:\n",
            "  Среднее: 110.73985998216465\n",
            "  Медиана: 84\n",
            "  Стандартное отклонение: 78.8517723449656\n",
            "Статистика для Interest Rate:\n",
            "  Среднее: 7.327914390266403\n",
            "  Медиана: 7\n",
            "  Стандартное отклонение: 2.97771377479778\n",
            "Статистика для Employees:\n",
            "  Среднее: 19.122981990385306\n",
            "  Медиана: 7\n",
            "  Стандартное отклонение: 130.03260689491435\n",
            "Статистика для Gross Disbursed Amount:\n",
            "  Среднее: 14144916.44937935\n",
            "  Медиана: 7000000\n",
            "  Стандартное отклонение: 20299306.581284165\n",
            "Статистика для Term_years:\n",
            "  Среднее: 9.245461720599842\n",
            "  Медиана: 7\n",
            "  Стандартное отклонение: 6.569698906552671\n",
            "Статистика для Jobs Retained:\n",
            "  Среднее: 11.418362221834991\n",
            "  Медиана: 1\n",
            "  Стандартное отклонение: 248.7441977059397\n",
            "Статистика для Male to Female Employees Ratio:\n",
            "  Среднее: 15.32921104152359\n",
            "  Медиана: 13\n",
            "  Стандартное отклонение: 11.791946682111\n",
            "Статистика для Expected Company Income:\n",
            "  Среднее: 18325220.522256106\n",
            "  Медиана: 1500000\n",
            "  Стандартное отклонение: 175906858.249903\n",
            "Статистика для Funds available with company:\n",
            "  Среднее: 1253178.777488494\n",
            "  Медиана: 1239644\n",
            "  Стандартное отклонение: 645567.0835725039\n",
            "Статистика для Gross_Apprv_Amount:\n",
            "  Среднее: 13565614.745999856\n",
            "  Медиана: 6300000\n",
            "  Стандартное отклонение: 19969551.97290655\n",
            "Статистика для Company Branch Code:\n",
            "  Среднее: 2812.721501860413\n",
            "  Медиана: 1\n",
            "  Стандартное отклонение: 12897.919612614\n",
            "Статистика для City or Rural:\n",
            "  Среднее: 0.7546971576174417\n",
            "  Медиана: 1\n",
            "  Стандартное отклонение: 0.6469141971067718\n",
            "Статистика для Jobs Generated:\n",
            "  Среднее: 9.055151241812647\n",
            "  Медиана: 0\n",
            "  Стандартное отклонение: 248.31703711245234\n",
            "Статистика для Balance Left:\n",
            "  Среднее: 9.18418597976609\n",
            "  Медиана: 0\n",
            "  Стандартное отклонение: 3962.911449725469\n",
            "Статистика для Final_Appved_Amount:\n",
            "  Среднее: 10528977.72045634\n",
            "  Медиана: 4375000\n",
            "  Стандартное отклонение: 16101767.759185832\n",
            "Статистика для Default_Status:\n",
            "  Среднее: 0.18059840711774414\n",
            "  Медиана: 0\n",
            "  Стандартное отклонение: 0.3846860809731266\n"
          ]
        }
      ]
    },
    {
      "cell_type": "markdown",
      "source": [
        "### Заполнение пропусков"
      ],
      "metadata": {
        "id": "8fYFP-2-86m-"
      }
    },
    {
      "cell_type": "code",
      "source": [
        "from pyspark.sql.functions import col\n",
        "\n",
        "data.select([count(when(isnan(c) | col(c).isNull(), c)).alias(c) for c in data.columns]).show()"
      ],
      "metadata": {
        "id": "dFjh6_6wF5bt",
        "colab": {
          "base_uri": "https://localhost:8080/"
        },
        "outputId": "2ce04ece-e32f-4a8e-98cc-7295610359e5"
      },
      "execution_count": 13,
      "outputs": [
        {
          "output_type": "stream",
          "name": "stdout",
          "text": [
            "+--------------+-----------+---------+------------------+-----------+--------------------+---------------------------+-------------+------------+----+---------+-------------+---------+----------------------+----------+-------------+------------------------------+-----------------------+----------------------------+------------------+-------------------+-------------+--------------+--------------------+------------------+------------+-------------------+--------------+\n",
            "|Application ID|Bank Masked|Bank Type|Approved_Timestamp|Name Masked|Business Owner State|Business_Industry_Type_Code|Approved_Year|New Business|Term|BankState|Interest Rate|Employees|Gross Disbursed Amount|Term_years|Jobs Retained|Male to Female Employees Ratio|Expected Company Income|Funds available with company|Gross_Apprv_Amount|Company Branch Code|City or Rural|Jobs Generated|Carry-forward Credit|Documents Provided|Balance Left|Final_Appved_Amount|Default_Status|\n",
            "+--------------+-----------+---------+------------------+-----------+--------------------+---------------------------+-------------+------------+----+---------+-------------+---------+----------------------+----------+-------------+------------------------------+-----------------------+----------------------------+------------------+-------------------+-------------+--------------+--------------------+------------------+------------+-------------------+--------------+\n",
            "|             0|         80|       80|               426|          1|                   3|                          0|            0|          36|   0|       81|            0|        0|                     0|         0|            0|                             0|                      3|                           0|                 0|                  0|            0|             0|                 978|               552|           0|                  0|             0|\n",
            "+--------------+-----------+---------+------------------+-----------+--------------------+---------------------------+-------------+------------+----+---------+-------------+---------+----------------------+----------+-------------+------------------------------+-----------------------+----------------------------+------------------+-------------------+-------------+--------------+--------------------+------------------+------------+-------------------+--------------+\n",
            "\n"
          ]
        }
      ]
    },
    {
      "cell_type": "markdown",
      "source": [
        "Так можно для всех столбцов, где не хватает данных:"
      ],
      "metadata": {
        "id": "NopbEJVu8q44"
      }
    },
    {
      "cell_type": "code",
      "source": [
        "data.select(col('Documents Provided')).groupBy('Documents Provided').count().show()"
      ],
      "metadata": {
        "id": "US83SU3xF-tH",
        "colab": {
          "base_uri": "https://localhost:8080/"
        },
        "outputId": "b145ddff-c5ba-4138-ae10-45ed2e70520a"
      },
      "execution_count": 14,
      "outputs": [
        {
          "output_type": "stream",
          "name": "stdout",
          "text": [
            "+------------------+------+\n",
            "|Documents Provided| count|\n",
            "+------------------+------+\n",
            "|              NULL|   552|\n",
            "|                 Y| 24545|\n",
            "|                 N|170021|\n",
            "+------------------+------+\n",
            "\n"
          ]
        }
      ]
    },
    {
      "cell_type": "code",
      "source": [
        "data = data.fillna({'Bank Masked': 'Unknown', 'Bank Type': 'Unknown', 'Approved_Timestamp': 'Unknown',\n",
        "                    'Name Masked': 'Unknown', 'Business Owner State': 'Unknown',\n",
        "                    'BankState': 'Unknown', 'Carry-forward Credit': 'N', 'Documents Provided': 'N'})"
      ],
      "metadata": {
        "id": "IgQS6telnID1"
      },
      "execution_count": 15,
      "outputs": []
    },
    {
      "cell_type": "code",
      "source": [
        "imputer = Imputer(inputCols=[\"New Business\", \"Expected Company Income\"],\n",
        "                  outputCols=[\"New Business\", \"Expected Company Income\"],\n",
        "                  strategy='mean')\n",
        "imputer = imputer.fit(data)\n",
        "data = imputer.transform(data)"
      ],
      "metadata": {
        "id": "dlT48FrWnH80"
      },
      "execution_count": 16,
      "outputs": []
    },
    {
      "cell_type": "markdown",
      "source": [
        "Проверяем, что все заполнено:"
      ],
      "metadata": {
        "id": "NIVGXWlR81x0"
      }
    },
    {
      "cell_type": "code",
      "source": [
        "data.select([count(when(isnan(c) | col(c).isNull(), c)).alias(c) for c in data.columns]).show()"
      ],
      "metadata": {
        "id": "_d2UMKE7GGaH",
        "colab": {
          "base_uri": "https://localhost:8080/"
        },
        "outputId": "035701c7-9929-4037-e3cf-ba6372584e48"
      },
      "execution_count": 17,
      "outputs": [
        {
          "output_type": "stream",
          "name": "stdout",
          "text": [
            "+--------------+-----------+---------+------------------+-----------+--------------------+---------------------------+-------------+------------+----+---------+-------------+---------+----------------------+----------+-------------+------------------------------+-----------------------+----------------------------+------------------+-------------------+-------------+--------------+--------------------+------------------+------------+-------------------+--------------+\n",
            "|Application ID|Bank Masked|Bank Type|Approved_Timestamp|Name Masked|Business Owner State|Business_Industry_Type_Code|Approved_Year|New Business|Term|BankState|Interest Rate|Employees|Gross Disbursed Amount|Term_years|Jobs Retained|Male to Female Employees Ratio|Expected Company Income|Funds available with company|Gross_Apprv_Amount|Company Branch Code|City or Rural|Jobs Generated|Carry-forward Credit|Documents Provided|Balance Left|Final_Appved_Amount|Default_Status|\n",
            "+--------------+-----------+---------+------------------+-----------+--------------------+---------------------------+-------------+------------+----+---------+-------------+---------+----------------------+----------+-------------+------------------------------+-----------------------+----------------------------+------------------+-------------------+-------------+--------------+--------------------+------------------+------------+-------------------+--------------+\n",
            "|             0|          0|        0|                 0|          0|                   0|                          0|            0|           0|   0|        0|            0|        0|                     0|         0|            0|                             0|                      0|                           0|                 0|                  0|            0|             0|                   0|                 0|           0|                  0|             0|\n",
            "+--------------+-----------+---------+------------------+-----------+--------------------+---------------------------+-------------+------------+----+---------+-------------+---------+----------------------+----------+-------------+------------------------------+-----------------------+----------------------------+------------------+-------------------+-------------+--------------+--------------------+------------------+------------+-------------------+--------------+\n",
            "\n"
          ]
        }
      ]
    },
    {
      "cell_type": "markdown",
      "source": [
        "### Обработка"
      ],
      "metadata": {
        "id": "rEj9Zqpx98kl"
      }
    },
    {
      "cell_type": "code",
      "source": [
        "bank_type_indexer = StringIndexer(inputCol=\"Bank Type\", outputCol=\"Bank_Type_Index\")\n",
        "bank_type_indexer = bank_type_indexer.fit(data)\n",
        "data = bank_type_indexer.transform(data)\n",
        "\n",
        "business_owner_state_indexer = StringIndexer(inputCol=\"Business Owner State\", outputCol=\"Business_Owner_State_Index\")\n",
        "business_owner_state_indexer = business_owner_state_indexer.fit(data)\n",
        "data = business_owner_state_indexer.transform(data)\n",
        "\n",
        "bank_state_indexer = StringIndexer(inputCol=\"BankState\", outputCol=\"Bank_State_Index\")\n",
        "bank_state_indexer = bank_state_indexer.fit(data)\n",
        "data = bank_state_indexer.transform(data)\n",
        "\n",
        "carry_forward_credit_indexer = StringIndexer(inputCol=\"Carry-forward Credit\", outputCol=\"Carry_Forward_Credit_Index\")\n",
        "carry_forward_credit_indexer = carry_forward_credit_indexer.fit(data)\n",
        "data = carry_forward_credit_indexer.transform(data)\n",
        "\n",
        "documents_provided_indexer = StringIndexer(inputCol=\"Documents Provided\", outputCol=\"Documents_Provided_Index\")\n",
        "documents_provided_indexer = documents_provided_indexer.fit(data)\n",
        "data = documents_provided_indexer.transform(data)"
      ],
      "metadata": {
        "id": "pHfjBa6F-Y2n"
      },
      "execution_count": 18,
      "outputs": []
    },
    {
      "cell_type": "code",
      "source": [
        "ohe_encoder = OneHotEncoder(inputCols=[\"Bank_Type_Index\", \"Business_Owner_State_Index\", \"Bank_State_Index\"],\n",
        "                        outputCols=[\"Bank_Type_Index_Vector\", \"Business_Owner_State_Vector\", \"Bank_State_Vector\"])\n",
        "ohe_encoder = ohe_encoder.fit(data)\n",
        "data = ohe_encoder.transform(data)"
      ],
      "metadata": {
        "id": "WncuJd5T-Yza"
      },
      "execution_count": 19,
      "outputs": []
    },
    {
      "cell_type": "code",
      "source": [
        "employees_discretizer = QuantileDiscretizer(numBuckets=5, inputCol=\"Employees\", outputCol=\"Employees_quant\")\n",
        "employees_discretizer = employees_discretizer.fit(data)\n",
        "data = employees_discretizer.transform(data)\n",
        "\n",
        "final_appved_amount_discretizer = QuantileDiscretizer(numBuckets=5, inputCol=\"Final_Appved_Amount\", outputCol=\"Final_Appved_Amount_quant\")\n",
        "final_appved_amount_discretizer = final_appved_amount_discretizer.fit(data)\n",
        "data = final_appved_amount_discretizer.transform(data)\n",
        "\n",
        "approved_year_discretizer = QuantileDiscretizer(numBuckets=5, inputCol=\"Approved_Year\", outputCol=\"Approved_Yeart_quant\")\n",
        "approved_year_discretizer = approved_year_discretizer.fit(data)\n",
        "data = approved_year_discretizer.transform(data)"
      ],
      "metadata": {
        "id": "9mOcUfKr-Ywx"
      },
      "execution_count": 20,
      "outputs": []
    },
    {
      "cell_type": "code",
      "source": [
        "interest_rate_discretizer = QuantileDiscretizer(numBuckets=5, inputCol=\"Interest Rate\", outputCol=\"Interest_Rate_quant\")\n",
        "interest_rate_discretizer = interest_rate_discretizer.fit(data)\n",
        "data = interest_rate_discretizer.transform(data)\n",
        "\n",
        "gross_disbursed_discretizer = QuantileDiscretizer(numBuckets=5, inputCol=\"Gross Disbursed Amount\", outputCol=\"Gross_Disburse_Amount_quant\")\n",
        "gross_disbursed_discretizer = gross_disbursed_discretizer.fit(data)\n",
        "data = gross_disbursed_discretizer.transform(data)\n",
        "\n",
        "term_years_discretizer = QuantileDiscretizer(numBuckets=5, inputCol=\"Term_years\", outputCol=\"Term_years_quant\")\n",
        "term_years_discretizer = term_years_discretizer.fit(data)\n",
        "data = term_years_discretizer.transform(data)\n",
        "\n",
        "male_female_ratio_discretizer = QuantileDiscretizer(numBuckets=5, inputCol=\"Male to Female Employees Ratio\", outputCol=\"Male_to_Female_Employees_Ratio_quant\")\n",
        "male_female_ratio_discretizer = male_female_ratio_discretizer.fit(data)\n",
        "data = male_female_ratio_discretizer.transform(data)\n",
        "\n",
        "expected_income_discretizer = QuantileDiscretizer(numBuckets=5, inputCol=\"Expected Company Income\", outputCol=\"Expected_Company_Income_quant\")\n",
        "expected_income_discretizer = expected_income_discretizer.fit(data)\n",
        "data = expected_income_discretizer.transform(data)\n",
        "\n",
        "funds_available_discretizer = QuantileDiscretizer(numBuckets=5, inputCol=\"Funds available with company\", outputCol=\"Funds_available_with_company_quant\")\n",
        "funds_available_discretizer = funds_available_discretizer.fit(data)\n",
        "data = funds_available_discretizer.transform(data)\n",
        "\n",
        "gross_apprv_amount_discretizer = QuantileDiscretizer(numBuckets=5, inputCol=\"Gross_Apprv_Amount\", outputCol=\"Gross_Apprv_Amount_quant\")\n",
        "gross_apprv_amount_discretizer = gross_apprv_amount_discretizer.fit(data)\n",
        "data = gross_apprv_amount_discretizer.transform(data)"
      ],
      "metadata": {
        "id": "W2lbxOxdJZBY"
      },
      "execution_count": 21,
      "outputs": []
    },
    {
      "cell_type": "code",
      "source": [
        "feature_columns = [\n",
        "    'Business_Industry_Type_Code',\n",
        "    'Approved_Year',\n",
        "    'New Business',\n",
        "    'Term',\n",
        "    'Interest Rate',\n",
        "    'Employees',\n",
        "    'Gross Disbursed Amount',\n",
        "    'Term_years',\n",
        "    'Jobs Retained',\n",
        "    'Male to Female Employees Ratio',\n",
        "    'Expected Company Income',\n",
        "    'Funds available with company',\n",
        "    'Gross_Apprv_Amount',\n",
        "    'Company Branch Code',\n",
        "    'City or Rural',\n",
        "    'Jobs Generated',\n",
        "    'Balance Left',\n",
        "    'Final_Appved_Amount',\n",
        "    'Carry_Forward_Credit_Index',\n",
        "    'Documents_Provided_Index',\n",
        "    'Bank_Type_Index_Vector',\n",
        "    'Business_Owner_State_Vector',\n",
        "    'Bank_State_Vector',\n",
        "    \"Employees_quant\",\n",
        "    \"Final_Appved_Amount_quant\",\n",
        "    \"Approved_Yeart_quant\",\n",
        "    \"Interest_Rate_quant\",\n",
        "    \"Gross_Disburse_Amount_quant\",\n",
        "    \"Term_years_quant\",\n",
        "    \"Male_to_Female_Employees_Ratio_quant\",\n",
        "    \"Expected_Company_Income_quant\",\n",
        "    \"Funds_available_with_company_quant\",\n",
        "    \"Gross_Apprv_Amount_quant\"\n",
        "]"
      ],
      "metadata": {
        "id": "8WxJ7SO9Jw2l"
      },
      "execution_count": 22,
      "outputs": []
    },
    {
      "cell_type": "markdown",
      "source": [
        "Корреляции"
      ],
      "metadata": {
        "id": "u3AeQEce-l7J"
      }
    },
    {
      "cell_type": "code",
      "source": [
        "from pyspark.ml.feature import VectorAssembler\n",
        "from pyspark.ml.stat import Correlation\n",
        "from pyspark.sql.functions import col, abs\n",
        "from pyspark.sql.types import FloatType\n",
        "\n",
        "all_columns = feature_columns + ['Default_Status']\n",
        "\n",
        "df_va = VectorAssembler(inputCols=all_columns, outputCol='features')\n",
        "data = df_va.transform(data)\n",
        "\n",
        "data_vector = data.select('features')\n",
        "\n",
        "correlation_matrix = Correlation.corr(data_vector, \"features\").collect()[0][0]\n",
        "\n",
        "num_cols = len(all_columns)\n",
        "correlation_df = spark.createDataFrame(\n",
        "    [(all_columns[i], all_columns[j], float(correlation_matrix[i, j]))\n",
        "     for i in range(num_cols)\n",
        "     for j in range(num_cols)],\n",
        "    [\"feature1\", \"feature2\", \"correlation\"]\n",
        ").withColumn(\"correlation\", col(\"correlation\").cast(FloatType()))\n",
        "\n",
        "default_status_correlations = correlation_df.filter(\n",
        "    (col(\"feature1\") == \"Default_Status\") & (col(\"feature2\") != \"Default_Status\")\n",
        ").select(\"feature2\", \"correlation\").orderBy(abs(col(\"correlation\")).desc())\n",
        "\n",
        "default_status_correlations.show(n=default_status_correlations.count(), truncate=False)"
      ],
      "metadata": {
        "id": "58768YevD28V",
        "colab": {
          "base_uri": "https://localhost:8080/"
        },
        "collapsed": true,
        "outputId": "09236705-7ecd-4bb5-ce47-cfd91d829566"
      },
      "execution_count": 23,
      "outputs": [
        {
          "output_type": "stream",
          "name": "stdout",
          "text": [
            "+------------------------------------+-------------+\n",
            "|feature2                            |correlation  |\n",
            "+------------------------------------+-------------+\n",
            "|Gross_Apprv_Amount_quant            |-0.5229817   |\n",
            "|Final_Appved_Amount_quant           |0.46429187   |\n",
            "|Bank_State_Vector                   |-0.21100944  |\n",
            "|Employees_quant                     |-0.1320608   |\n",
            "|Approved_Yeart_quant                |-0.10178113  |\n",
            "|Male_to_Female_Employees_Ratio_quant|-0.041304994 |\n",
            "|Interest_Rate_quant                 |-0.04095862  |\n",
            "|Business_Industry_Type_Code         |0.03533191   |\n",
            "|Expected_Company_Income_quant       |-0.026378855 |\n",
            "|Funds_available_with_company_quant  |-0.02418197  |\n",
            "|City or Rural                       |0.014333968  |\n",
            "|Term_years_quant                    |-0.012812646 |\n",
            "|Gross_Disburse_Amount_quant         |0.011264889  |\n",
            "|Carry_Forward_Credit_Index          |0.008196422  |\n",
            "|Jobs Retained                       |-0.0027649398|\n",
            "|Jobs Generated                      |-0.0025747279|\n",
            "|Approved_Year                       |0.002303226  |\n",
            "|Final_Appved_Amount                 |-0.002247663 |\n",
            "|Documents_Provided_Index            |-0.0022153766|\n",
            "|Business_Owner_State_Vector         |0.002011441  |\n",
            "|Employees                           |-0.001999124 |\n",
            "|Gross_Apprv_Amount                  |-0.0019967377|\n",
            "|Balance Left                        |-0.0015503394|\n",
            "|Gross Disbursed Amount              |-0.0015280227|\n",
            "|Bank_Type_Index_Vector              |-0.0014288272|\n",
            "|Term                                |0.0012791572 |\n",
            "|Term_years                          |0.0011938704 |\n",
            "|Expected Company Income             |-0.0011527385|\n",
            "|Funds available with company        |-0.0010722576|\n",
            "|New Business                        |7.372647E-4  |\n",
            "|Company Branch Code                 |-3.2483338E-4|\n",
            "|Interest Rate                       |2.4411936E-4 |\n",
            "|Male to Female Employees Ratio      |-1.059599E-4 |\n",
            "+------------------------------------+-------------+\n",
            "\n"
          ]
        }
      ]
    },
    {
      "cell_type": "markdown",
      "source": [
        "### Собираем модель (регрессия)"
      ],
      "metadata": {
        "id": "f5gUqxXh-u6g"
      }
    },
    {
      "cell_type": "code",
      "source": [
        "data2 = spark.read.csv('Train_Set_90621.csv', header=True, inferSchema=True)"
      ],
      "metadata": {
        "id": "k-aB__K6-JJj"
      },
      "execution_count": 24,
      "outputs": []
    },
    {
      "cell_type": "code",
      "source": [
        "data2 = data2.drop('Amount Defaulted')"
      ],
      "metadata": {
        "id": "ws6yAxJr-K86"
      },
      "execution_count": 25,
      "outputs": []
    },
    {
      "cell_type": "code",
      "source": [
        "data2 = data2.fillna({'Bank Masked': 'Unknown', 'Bank Type': 'Unknown', 'Approved_Timestamp': 'Unknown',\n",
        "                    'Name Masked': 'Unknown', 'Business Owner State': 'Unknown',\n",
        "                    'BankState': 'Unknown', 'Carry-forward Credit': 'N', 'Documents Provided': 'N'})"
      ],
      "metadata": {
        "id": "pec0y9md-K4X"
      },
      "execution_count": 26,
      "outputs": []
    },
    {
      "cell_type": "code",
      "source": [
        "imputer = Imputer(inputCols=[\"New Business\", \"Expected Company Income\"],\n",
        "                  outputCols=[\"New Business\", \"Expected Company Income\"],\n",
        "                  strategy='mean')\n",
        "imputer = imputer.fit(data2)\n",
        "data2 = imputer.transform(data2)"
      ],
      "metadata": {
        "id": "pCMSCk8K-KyM"
      },
      "execution_count": 27,
      "outputs": []
    },
    {
      "cell_type": "code",
      "source": [
        "bank_type_indexer = StringIndexer(inputCol=\"Bank Type\", outputCol=\"Bank_Type_Index\", handleInvalid=\"keep\")\n",
        "business_owner_state_indexer = StringIndexer(inputCol=\"Business Owner State\", outputCol=\"Business_Owner_State_Index\", handleInvalid=\"keep\")\n",
        "bank_state_indexer = StringIndexer(inputCol=\"BankState\", outputCol=\"Bank_State_Index\", handleInvalid=\"keep\")\n",
        "carry_forward_credit_indexer = StringIndexer(inputCol=\"Carry-forward Credit\", outputCol=\"Carry_Forward_Credit_Index\", handleInvalid=\"keep\")\n",
        "documents_provided_indexer = StringIndexer(inputCol=\"Documents Provided\", outputCol=\"Documents_Provided_Index\", handleInvalid=\"keep\")\n",
        "\n",
        "ohe_encoder = OneHotEncoder(inputCols=[\"Bank_Type_Index\", \"Business_Owner_State_Index\", \"Bank_State_Index\"],\n",
        "                        outputCols=[\"Bank_Type_Index_Vector\", \"Business_Owner_State_Vector\", \"Bank_State_Vector\"])\n",
        "\n",
        "employees_discretizer = QuantileDiscretizer(numBuckets=5, inputCol=\"Employees\", outputCol=\"Employees_quant\")\n",
        "final_appved_amount_discretizer = QuantileDiscretizer(numBuckets=5, inputCol=\"Final_Appved_Amount\", outputCol=\"Final_Appved_Amount_quant\")\n",
        "approved_year_discretizer = QuantileDiscretizer(numBuckets=5, inputCol=\"Approved_Year\", outputCol=\"Approved_Year_quant\")\n",
        "\n",
        "interest_rate_discretizer = QuantileDiscretizer(numBuckets=5, inputCol=\"Interest Rate\", outputCol=\"Interest_Rate_quant\")\n",
        "gross_disbursed_discretizer = QuantileDiscretizer(numBuckets=5, inputCol=\"Gross Disbursed Amount\", outputCol=\"Gross_Disburse_Amount_quant\")\n",
        "term_years_discretizer = QuantileDiscretizer(numBuckets=5, inputCol=\"Term_years\", outputCol=\"Term_years_quant\")\n",
        "male_female_ratio_discretizer = QuantileDiscretizer(numBuckets=5, inputCol=\"Male to Female Employees Ratio\", outputCol=\"Male_to_Female_Employees_Ratio_quant\")\n",
        "expected_income_discretizer = QuantileDiscretizer(numBuckets=5, inputCol=\"Expected Company Income\", outputCol=\"Expected_Company_Income_quant\")\n",
        "funds_available_discretizer = QuantileDiscretizer(numBuckets=5, inputCol=\"Funds available with company\", outputCol=\"Funds_available_with_company_quant\")\n",
        "gross_apprv_amount_discretizer = QuantileDiscretizer(numBuckets=5, inputCol=\"Gross_Apprv_Amount\", outputCol=\"Gross_Apprv_Amount_quant\")\n",
        "\n",
        "feature_columns = [\n",
        "    'Business_Industry_Type_Code',\n",
        "    'Approved_Year',\n",
        "    'New Business',\n",
        "    'Term',\n",
        "    'Interest Rate',\n",
        "    'Employees',\n",
        "    'Gross Disbursed Amount',\n",
        "    'Term_years',\n",
        "    'Jobs Retained',\n",
        "    'Male to Female Employees Ratio',\n",
        "    'Expected Company Income',\n",
        "    'Funds available with company',\n",
        "    'Gross_Apprv_Amount',\n",
        "    'Company Branch Code',\n",
        "    'City or Rural',\n",
        "    'Jobs Generated',\n",
        "    'Balance Left',\n",
        "    'Final_Appved_Amount',\n",
        "    'Carry_Forward_Credit_Index',\n",
        "    'Documents_Provided_Index',\n",
        "    'Bank_Type_Index_Vector',\n",
        "    'Business_Owner_State_Vector',\n",
        "    'Bank_State_Vector',\n",
        "    \"Employees_quant\",\n",
        "    \"Final_Appved_Amount_quant\",\n",
        "    \"Approved_Year_quant\",\n",
        "    \"Interest_Rate_quant\",\n",
        "    \"Gross_Disburse_Amount_quant\",\n",
        "    \"Term_years_quant\",\n",
        "    \"Male_to_Female_Employees_Ratio_quant\",\n",
        "    \"Expected_Company_Income_quant\",\n",
        "    \"Funds_available_with_company_quant\",\n",
        "    \"Gross_Apprv_Amount_quant\"\n",
        "]\n",
        "\n",
        "df_va = VectorAssembler(inputCols = feature_columns, outputCol = 'features')\n",
        "\n",
        "lr = LogisticRegression(featuresCol='features', labelCol='Default_Status', predictionCol='prediction',\n",
        "                        maxIter=100, probabilityCol='proba')"
      ],
      "metadata": {
        "id": "3ZAvgUSln_GO"
      },
      "execution_count": 28,
      "outputs": []
    },
    {
      "cell_type": "code",
      "source": [
        "pipeline_reg = Pipeline(stages=[\n",
        "    bank_type_indexer,\n",
        "    business_owner_state_indexer,\n",
        "    bank_state_indexer,\n",
        "    carry_forward_credit_indexer,\n",
        "    documents_provided_indexer,\n",
        "    ohe_encoder,\n",
        "    employees_discretizer,\n",
        "    final_appved_amount_discretizer,\n",
        "    approved_year_discretizer,\n",
        "    interest_rate_discretizer,\n",
        "    gross_disbursed_discretizer,\n",
        "    term_years_discretizer,\n",
        "    male_female_ratio_discretizer,\n",
        "    expected_income_discretizer,\n",
        "    funds_available_discretizer,\n",
        "    gross_apprv_amount_discretizer,\n",
        "    df_va,\n",
        "    lr\n",
        "])"
      ],
      "metadata": {
        "id": "nHmYXXWEMHoI"
      },
      "execution_count": 29,
      "outputs": []
    },
    {
      "cell_type": "markdown",
      "source": [
        "Такой перебор слишком большой, поэтому я поперебирал их отдельно. Дальше будут взяты лучшие параметры."
      ],
      "metadata": {
        "id": "7PKxNKriCBQv"
      }
    },
    {
      "cell_type": "code",
      "source": [
        "'''\n",
        "paramGrid_reg = ParamGridBuilder() \\\n",
        "    .addGrid(employees_discretizer.numBuckets, [5, 8]) \\\n",
        "    .addGrid(final_appved_amount_discretizer.numBuckets, [10, 15]) \\\n",
        "    .addGrid(approved_year_discretizer.numBuckets, [5, 8]) \\\n",
        "    .addGrid(interest_rate_discretizer.numBuckets, [5, 8]) \\\n",
        "    .addGrid(gross_disbursed_discretizer.numBuckets, [10, 15]) \\\n",
        "    .addGrid(term_years_discretizer.numBuckets, [5, 8]) \\\n",
        "    .addGrid(male_female_ratio_discretizer.numBuckets, [5, 8]) \\\n",
        "    .addGrid(expected_income_discretizer.numBuckets, [10, 15]) \\\n",
        "    .addGrid(funds_available_discretizer.numBuckets, [10, 15]) \\\n",
        "    .addGrid(gross_apprv_amount_discretizer.numBuckets, [10, 15]) \\\n",
        "    .addGrid(lr.maxIter, [20, 40]) \\\n",
        "    .build()\n",
        "'''"
      ],
      "metadata": {
        "colab": {
          "base_uri": "https://localhost:8080/",
          "height": 88
        },
        "collapsed": true,
        "id": "rnwwZymTAbh2",
        "outputId": "360611a0-7172-4740-9261-143e5559099d"
      },
      "execution_count": 30,
      "outputs": [
        {
          "output_type": "execute_result",
          "data": {
            "text/plain": [
              "'\\nparamGrid_reg = ParamGridBuilder()     .addGrid(employees_discretizer.numBuckets, [5, 8])     .addGrid(final_appved_amount_discretizer.numBuckets, [10, 15])     .addGrid(approved_year_discretizer.numBuckets, [5, 8])     .addGrid(interest_rate_discretizer.numBuckets, [5, 8])     .addGrid(gross_disbursed_discretizer.numBuckets, [10, 15])     .addGrid(term_years_discretizer.numBuckets, [5, 8])     .addGrid(male_female_ratio_discretizer.numBuckets, [5, 8])     .addGrid(expected_income_discretizer.numBuckets, [10, 15])     .addGrid(funds_available_discretizer.numBuckets, [10, 15])     .addGrid(gross_apprv_amount_discretizer.numBuckets, [10, 15])     .addGrid(lr.maxIter, [20, 40])     .build()\\n'"
            ],
            "application/vnd.google.colaboratory.intrinsic+json": {
              "type": "string"
            }
          },
          "metadata": {},
          "execution_count": 30
        }
      ]
    },
    {
      "cell_type": "markdown",
      "source": [
        "Лучшие параметры:"
      ],
      "metadata": {
        "id": "o5kMYE0_Grqm"
      }
    },
    {
      "cell_type": "code",
      "source": [
        "paramGrid_reg = ParamGridBuilder() \\\n",
        "    .addGrid(employees_discretizer.numBuckets, [5]) \\\n",
        "    .addGrid(final_appved_amount_discretizer.numBuckets, [15]) \\\n",
        "    .addGrid(approved_year_discretizer.numBuckets, [5]) \\\n",
        "    .addGrid(interest_rate_discretizer.numBuckets, [5]) \\\n",
        "    .addGrid(gross_disbursed_discretizer.numBuckets, [15]) \\\n",
        "    .addGrid(term_years_discretizer.numBuckets, [8]) \\\n",
        "    .addGrid(male_female_ratio_discretizer.numBuckets, [5]) \\\n",
        "    .addGrid(expected_income_discretizer.numBuckets, [10]) \\\n",
        "    .addGrid(funds_available_discretizer.numBuckets, [15]) \\\n",
        "    .addGrid(gross_apprv_amount_discretizer.numBuckets, [15]) \\\n",
        "    .addGrid(lr.maxIter, [40]) \\\n",
        "    .build()"
      ],
      "metadata": {
        "id": "cWqLdjhCC210"
      },
      "execution_count": 31,
      "outputs": []
    },
    {
      "cell_type": "code",
      "source": [
        "train_reg, test_reg = data2.randomSplit([0.7, 0.3], seed=7)"
      ],
      "metadata": {
        "id": "1qFjW6qMn--c"
      },
      "execution_count": 32,
      "outputs": []
    },
    {
      "cell_type": "code",
      "source": [
        "crossval_reg = CrossValidator(estimator=pipeline_reg,\n",
        "                          estimatorParamMaps=paramGrid_reg,\n",
        "                          evaluator=BinaryClassificationEvaluator(rawPredictionCol='rawPrediction',\n",
        "                                                                  labelCol='Default_Status', metricName='areaUnderROC'),\n",
        "                          numFolds=2,\n",
        "                          parallelism=2)"
      ],
      "metadata": {
        "id": "XEN9BH6pn-7K"
      },
      "execution_count": 33,
      "outputs": []
    },
    {
      "cell_type": "code",
      "source": [
        "cvModel_reg = crossval_reg.fit(train_reg)"
      ],
      "metadata": {
        "id": "8OmWBylmn-4d"
      },
      "execution_count": 34,
      "outputs": []
    },
    {
      "cell_type": "code",
      "source": [
        "cvModel_reg.avgMetrics"
      ],
      "metadata": {
        "id": "DImdPu5spGS_",
        "colab": {
          "base_uri": "https://localhost:8080/"
        },
        "outputId": "d3122347-081c-446e-ce24-31571ccb255a"
      },
      "execution_count": 35,
      "outputs": [
        {
          "output_type": "execute_result",
          "data": {
            "text/plain": [
              "[0.7402074513976986]"
            ]
          },
          "metadata": {},
          "execution_count": 35
        }
      ]
    },
    {
      "cell_type": "code",
      "source": [
        "test_pred_reg = cvModel_reg.transform(test_reg)"
      ],
      "metadata": {
        "id": "ePxuytQtpGMS"
      },
      "execution_count": 37,
      "outputs": []
    },
    {
      "cell_type": "code",
      "source": [
        "evaluator = BinaryClassificationEvaluator(rawPredictionCol='rawPrediction',\n",
        "                                          labelCol='Default_Status', metricName='areaUnderROC')"
      ],
      "metadata": {
        "id": "G1It_dropM81"
      },
      "execution_count": 38,
      "outputs": []
    },
    {
      "cell_type": "code",
      "source": [
        "evaluator.evaluate(test_pred_reg)"
      ],
      "metadata": {
        "id": "AtsF29T-pM6E",
        "colab": {
          "base_uri": "https://localhost:8080/"
        },
        "outputId": "0693eb74-2f89-4658-ac6f-ef53a0755ab1"
      },
      "execution_count": 39,
      "outputs": [
        {
          "output_type": "execute_result",
          "data": {
            "text/plain": [
              "0.7399065958049806"
            ]
          },
          "metadata": {},
          "execution_count": 39
        }
      ]
    },
    {
      "cell_type": "code",
      "source": [
        "from pyspark.ml.evaluation import MulticlassClassificationEvaluator\n",
        "\n",
        "evaluator = MulticlassClassificationEvaluator(\n",
        "    labelCol=\"Default_Status\",\n",
        "    predictionCol=\"prediction\",\n",
        "    metricName=\"accuracy\"\n",
        ")\n",
        "\n",
        "accuracy = evaluator.evaluate(test_pred_reg)\n",
        "\n",
        "print(f\"Точность модели: {accuracy:.4f}\")"
      ],
      "metadata": {
        "id": "h4D9b3zSpM2a",
        "colab": {
          "base_uri": "https://localhost:8080/"
        },
        "outputId": "32e29587-e247-44ce-ab60-9f6a61e1a762"
      },
      "execution_count": 40,
      "outputs": [
        {
          "output_type": "stream",
          "name": "stdout",
          "text": [
            "Точность модели: 0.8220\n"
          ]
        }
      ]
    },
    {
      "cell_type": "code",
      "source": [
        "cvModel_reg.write().overwrite().save('model_reg')"
      ],
      "metadata": {
        "id": "G33kNhrCpMzm"
      },
      "execution_count": null,
      "outputs": []
    },
    {
      "cell_type": "markdown",
      "source": [
        "### Собираем модель (дерево)"
      ],
      "metadata": {
        "id": "PLg6J2DSANnr"
      }
    },
    {
      "cell_type": "code",
      "source": [
        "from pyspark.ml.classification import RandomForestClassifier"
      ],
      "metadata": {
        "id": "TM0DP_e5QECr"
      },
      "execution_count": 43,
      "outputs": []
    },
    {
      "cell_type": "code",
      "source": [
        "bank_type_indexer = StringIndexer(inputCol=\"Bank Type\", outputCol=\"Bank_Type_Index\", handleInvalid=\"keep\")\n",
        "business_owner_state_indexer = StringIndexer(inputCol=\"Business Owner State\", outputCol=\"Business_Owner_State_Index\", handleInvalid=\"keep\")\n",
        "bank_state_indexer = StringIndexer(inputCol=\"BankState\", outputCol=\"Bank_State_Index\", handleInvalid=\"keep\")\n",
        "carry_forward_credit_indexer = StringIndexer(inputCol=\"Carry-forward Credit\", outputCol=\"Carry_Forward_Credit_Index\", handleInvalid=\"keep\")\n",
        "documents_provided_indexer = StringIndexer(inputCol=\"Documents Provided\", outputCol=\"Documents_Provided_Index\", handleInvalid=\"keep\")\n",
        "\n",
        "ohe_encoder = OneHotEncoder(inputCols=[\"Bank_Type_Index\", \"Business_Owner_State_Index\", \"Bank_State_Index\"],\n",
        "                        outputCols=[\"Bank_Type_Index_Vector\", \"Business_Owner_State_Vector\", \"Bank_State_Vector\"])\n",
        "\n",
        "employees_discretizer = QuantileDiscretizer(numBuckets=5, inputCol=\"Employees\", outputCol=\"Employees_quant\")\n",
        "final_appved_amount_discretizer = QuantileDiscretizer(numBuckets=5, inputCol=\"Final_Appved_Amount\", outputCol=\"Final_Appved_Amount_quant\")\n",
        "approved_year_discretizer = QuantileDiscretizer(numBuckets=5, inputCol=\"Approved_Year\", outputCol=\"Approved_Year_quant\")\n",
        "\n",
        "interest_rate_discretizer = QuantileDiscretizer(numBuckets=5, inputCol=\"Interest Rate\", outputCol=\"Interest_Rate_quant\")\n",
        "gross_disbursed_discretizer = QuantileDiscretizer(numBuckets=5, inputCol=\"Gross Disbursed Amount\", outputCol=\"Gross_Disburse_Amount_quant\")\n",
        "term_years_discretizer = QuantileDiscretizer(numBuckets=5, inputCol=\"Term_years\", outputCol=\"Term_years_quant\")\n",
        "male_female_ratio_discretizer = QuantileDiscretizer(numBuckets=5, inputCol=\"Male to Female Employees Ratio\", outputCol=\"Male_to_Female_Employees_Ratio_quant\")\n",
        "expected_income_discretizer = QuantileDiscretizer(numBuckets=5, inputCol=\"Expected Company Income\", outputCol=\"Expected_Company_Income_quant\")\n",
        "funds_available_discretizer = QuantileDiscretizer(numBuckets=5, inputCol=\"Funds available with company\", outputCol=\"Funds_available_with_company_quant\")\n",
        "gross_apprv_amount_discretizer = QuantileDiscretizer(numBuckets=5, inputCol=\"Gross_Apprv_Amount\", outputCol=\"Gross_Apprv_Amount_quant\")\n",
        "\n",
        "feature_columns = [\n",
        "    'Business_Industry_Type_Code',\n",
        "    'Approved_Year',\n",
        "    'New Business',\n",
        "    'Term',\n",
        "    'Interest Rate',\n",
        "    'Employees',\n",
        "    'Gross Disbursed Amount',\n",
        "    'Term_years',\n",
        "    'Jobs Retained',\n",
        "    'Male to Female Employees Ratio',\n",
        "    'Expected Company Income',\n",
        "    'Funds available with company',\n",
        "    'Gross_Apprv_Amount',\n",
        "    'Company Branch Code',\n",
        "    'City or Rural',\n",
        "    'Jobs Generated',\n",
        "    'Balance Left',\n",
        "    'Final_Appved_Amount',\n",
        "    'Carry_Forward_Credit_Index',\n",
        "    'Documents_Provided_Index',\n",
        "    'Bank_Type_Index_Vector',\n",
        "    'Business_Owner_State_Vector',\n",
        "    'Bank_State_Vector',\n",
        "    \"Employees_quant\",\n",
        "    \"Final_Appved_Amount_quant\",\n",
        "    \"Approved_Year_quant\",\n",
        "    \"Interest_Rate_quant\",\n",
        "    \"Gross_Disburse_Amount_quant\",\n",
        "    \"Term_years_quant\",\n",
        "    \"Male_to_Female_Employees_Ratio_quant\",\n",
        "    \"Expected_Company_Income_quant\",\n",
        "    \"Funds_available_with_company_quant\",\n",
        "    \"Gross_Apprv_Amount_quant\"\n",
        "]\n",
        "\n",
        "df_va = VectorAssembler(inputCols = feature_columns, outputCol = 'features')\n",
        "\n",
        "rf = RandomForestClassifier(labelCol=\"Default_Status\", featuresCol=\"features\", numTrees=100)"
      ],
      "metadata": {
        "id": "HLtrCGlaP8h-"
      },
      "execution_count": 44,
      "outputs": []
    },
    {
      "cell_type": "code",
      "source": [
        "pipeline_tree = Pipeline(stages=[\n",
        "    bank_type_indexer,\n",
        "    business_owner_state_indexer,\n",
        "    bank_state_indexer,\n",
        "    carry_forward_credit_indexer,\n",
        "    documents_provided_indexer,\n",
        "    ohe_encoder,\n",
        "    employees_discretizer,\n",
        "    final_appved_amount_discretizer,\n",
        "    approved_year_discretizer,\n",
        "    interest_rate_discretizer,\n",
        "    gross_disbursed_discretizer,\n",
        "    term_years_discretizer,\n",
        "    male_female_ratio_discretizer,\n",
        "    expected_income_discretizer,\n",
        "    funds_available_discretizer,\n",
        "    gross_apprv_amount_discretizer,\n",
        "    df_va,\n",
        "    rf\n",
        "])"
      ],
      "metadata": {
        "id": "tJgGR-8MQI91"
      },
      "execution_count": 45,
      "outputs": []
    },
    {
      "cell_type": "code",
      "source": [
        "paramGrid_tree = ParamGridBuilder() \\\n",
        "    .addGrid(rf.maxDepth, [5, 10, 12]) \\\n",
        "    .addGrid(rf.minInstancesPerNode, [1, 2, 3]) \\\n",
        "    .build()"
      ],
      "metadata": {
        "id": "W1fw8Wb5QI7c"
      },
      "execution_count": 46,
      "outputs": []
    },
    {
      "cell_type": "code",
      "source": [
        "train, test = data2.randomSplit([0.7, 0.3], seed=7)"
      ],
      "metadata": {
        "id": "7h5LY2UEQbOe"
      },
      "execution_count": 47,
      "outputs": []
    },
    {
      "cell_type": "code",
      "source": [
        "crossval = CrossValidator(estimator=pipeline_tree,\n",
        "                          estimatorParamMaps=paramGrid_tree,\n",
        "                          evaluator=BinaryClassificationEvaluator(rawPredictionCol='rawPrediction',\n",
        "                                                                  labelCol='Default_Status', metricName='areaUnderROC'),\n",
        "                          numFolds=2,\n",
        "                          parallelism=4)"
      ],
      "metadata": {
        "id": "JnkyuZjTQb1Y"
      },
      "execution_count": 48,
      "outputs": []
    },
    {
      "cell_type": "code",
      "source": [
        "cvModel_tree = crossval.fit(train)"
      ],
      "metadata": {
        "id": "J6xf_sBMQqDy"
      },
      "execution_count": 49,
      "outputs": []
    },
    {
      "cell_type": "code",
      "source": [
        "cvModel_tree.avgMetrics"
      ],
      "metadata": {
        "colab": {
          "base_uri": "https://localhost:8080/"
        },
        "id": "GLCEr8uCQp_3",
        "outputId": "0757ecac-b241-44ff-8402-caaf8b43c3dc"
      },
      "execution_count": 50,
      "outputs": [
        {
          "output_type": "execute_result",
          "data": {
            "text/plain": [
              "[0.7876230693040538,\n",
              " 0.7872313760448878,\n",
              " 0.7858826344046697,\n",
              " 0.8419280144399564,\n",
              " 0.8413445349431989,\n",
              " 0.8421603215094066,\n",
              " 0.8510171714897595,\n",
              " 0.8514665222018192,\n",
              " 0.8520091746817198]"
            ]
          },
          "metadata": {},
          "execution_count": 50
        }
      ]
    },
    {
      "cell_type": "code",
      "source": [
        "import numpy as np\n",
        "print(cvModel_tree.getEstimatorParamMaps()[np.argmax(cvModel_tree.avgMetrics)])"
      ],
      "metadata": {
        "colab": {
          "base_uri": "https://localhost:8080/"
        },
        "id": "4XG7iBSwQp87",
        "outputId": "16c27622-2df1-41c6-aaed-6ab49771e9b0"
      },
      "execution_count": 51,
      "outputs": [
        {
          "output_type": "stream",
          "name": "stdout",
          "text": [
            "{Param(parent='RandomForestClassifier_a65788666545', name='maxDepth', doc='Maximum depth of the tree. (>= 0) E.g., depth 0 means 1 leaf node; depth 1 means 1 internal node + 2 leaf nodes. Must be in range [0, 30].'): 12, Param(parent='RandomForestClassifier_a65788666545', name='minInstancesPerNode', doc='Minimum number of instances each child must have after split. If a split causes the left or right child to have fewer than minInstancesPerNode, the split will be discarded as invalid. Should be >= 1.'): 3}\n"
          ]
        }
      ]
    },
    {
      "cell_type": "code",
      "source": [
        "test_pred_tree = cvModel_tree.transform(test)"
      ],
      "metadata": {
        "id": "oBwYP3RKpMsi"
      },
      "execution_count": 52,
      "outputs": []
    },
    {
      "cell_type": "code",
      "source": [
        "evaluator = BinaryClassificationEvaluator(rawPredictionCol='rawPrediction',\n",
        "                                          labelCol='Default_Status', metricName='areaUnderROC')"
      ],
      "metadata": {
        "id": "nROe62JbQ9Ti"
      },
      "execution_count": 53,
      "outputs": []
    },
    {
      "cell_type": "code",
      "source": [
        "evaluator.evaluate(test_pred_tree)"
      ],
      "metadata": {
        "colab": {
          "base_uri": "https://localhost:8080/"
        },
        "id": "I192Ku7vQ9Rq",
        "outputId": "22944e21-048f-4ca8-c1d2-0731cff23450"
      },
      "execution_count": 54,
      "outputs": [
        {
          "output_type": "execute_result",
          "data": {
            "text/plain": [
              "0.8517943334901616"
            ]
          },
          "metadata": {},
          "execution_count": 54
        }
      ]
    },
    {
      "cell_type": "code",
      "source": [
        "best_model = cvModel_tree.bestModel\n",
        "\n",
        "print('Важность признаков:')\n",
        "feature_importance = best_model.stages[-1].featureImportances\n",
        "feature_names = df_va.getInputCols()\n",
        "for name, importance in sorted(zip(feature_names, feature_importance), key=lambda x: x[1], reverse=True)[:10]:\n",
        "    print(f\"{name}: {importance}\")"
      ],
      "metadata": {
        "colab": {
          "base_uri": "https://localhost:8080/"
        },
        "id": "YAx5w4_NQ9Mw",
        "outputId": "ed1e4879-1ee4-43f8-c7e0-a8afe9a31ed3"
      },
      "execution_count": 55,
      "outputs": [
        {
          "output_type": "stream",
          "name": "stdout",
          "text": [
            "Важность признаков:\n",
            "Term: 0.255360057321469\n",
            "Term_years: 0.14236091184992122\n",
            "Expected Company Income: 0.05103578126603084\n",
            "Company Branch Code: 0.04239873078119127\n",
            "City or Rural: 0.03340479566299452\n",
            "Male to Female Employees Ratio: 0.029265956393561478\n",
            "Jobs Retained: 0.028768406444694184\n",
            "Final_Appved_Amount: 0.028005180142221427\n",
            "Gross_Apprv_Amount: 0.021520633046525\n",
            "Employees: 0.021401842857952276\n"
          ]
        }
      ]
    },
    {
      "cell_type": "code",
      "source": [
        "cvModel_tree.write().save('model_tree')"
      ],
      "metadata": {
        "id": "fIheMsH8FBmc"
      },
      "execution_count": 56,
      "outputs": []
    }
  ]
}