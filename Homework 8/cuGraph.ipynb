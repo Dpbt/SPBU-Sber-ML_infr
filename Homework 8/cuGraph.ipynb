{
  "cells": [
    {
      "cell_type": "code",
      "execution_count": 1,
      "metadata": {
        "id": "8Njd-5adUAb3"
      },
      "outputs": [],
      "source": [
        "%%capture\n",
        "!git clone https://github.com/rapidsai/rapidsai-csp-utils.git\n",
        "!python rapidsai-csp-utils/colab/pip-install.py\n",
        "\n",
        "!pip install dask_cuda dask-cudf-cu12"
      ]
    },
    {
      "cell_type": "code",
      "execution_count": 2,
      "metadata": {
        "id": "ufagfc_rUAb6"
      },
      "outputs": [],
      "source": [
        "import cudf\n",
        "import cugraph as cg\n",
        "import cupy as cp\n",
        "\n",
        "import networkx as nx\n",
        "import pandas as pd\n",
        "import matplotlib.pyplot as plt\n",
        "import numpy as np\n",
        "%matplotlib inline"
      ]
    },
    {
      "cell_type": "markdown",
      "metadata": {
        "id": "A3iPS6HEUAcK"
      },
      "source": [
        "# Домашнее задание\n",
        "\n",
        "В NetworkX есть алгоритм определения центральности через собственные вектора nx.algorithms.centrality.eigenvector_centrality(G). Сейчас мы рассмотрим реализацию данного алгоритма.\n",
        "Заданием будет следующее:\n",
        "\n",
        "    1) Переписать реализацию под GPU (cupy, numba, cudf, cugraph...)\n",
        "    2) Для графа карате клуба вычислить degree centrality, betweenness centrality, eigenvector centrality и pagerank.\n",
        "    3) Сравнить 4 характеристики между собой, на сколько они похожи \\ отличаются и в чем\n",
        "    \n",
        "# Срок 02.12.2024\n",
        "# Напоминаю, что курс про GPU и домашка также про GPU"
      ]
    },
    {
      "cell_type": "markdown",
      "source": [
        "### 1)."
      ],
      "metadata": {
        "id": "4H1zRgv7UfU3"
      }
    },
    {
      "cell_type": "code",
      "source": [
        "edges = pd.read_csv('karate-data.csv', sep='\\t', names=['source', 'destination'])"
      ],
      "metadata": {
        "id": "Lll_M7UjCWFN"
      },
      "execution_count": 3,
      "outputs": []
    },
    {
      "cell_type": "code",
      "source": [
        "G = nx.Graph()\n",
        "G = nx.from_pandas_edgelist(edges, source='source', target='destination')"
      ],
      "metadata": {
        "id": "5TPcf-wICWCx"
      },
      "execution_count": 4,
      "outputs": []
    },
    {
      "cell_type": "code",
      "execution_count": 5,
      "metadata": {
        "id": "_Jb1ZlqKi-i3",
        "tags": [],
        "colab": {
          "base_uri": "https://localhost:8080/"
        },
        "collapsed": true,
        "outputId": "8a1d1bfb-497f-42ab-ecde-dc8bfe2e82a1"
      },
      "outputs": [
        {
          "output_type": "execute_result",
          "data": {
            "text/plain": [
              "{1: 0.35548349418519426,\n",
              " 2: 0.26595387045450236,\n",
              " 3: 0.3171893899684447,\n",
              " 4: 0.21117407832057056,\n",
              " 5: 0.0759664588165738,\n",
              " 6: 0.07948057788594245,\n",
              " 7: 0.07948057788594245,\n",
              " 8: 0.1709551149803543,\n",
              " 9: 0.22740509147166046,\n",
              " 11: 0.0759664588165738,\n",
              " 12: 0.05285416945233646,\n",
              " 13: 0.08425192086558085,\n",
              " 14: 0.22646969838808148,\n",
              " 18: 0.0923967566684595,\n",
              " 20: 0.14791134007618667,\n",
              " 22: 0.0923967566684595,\n",
              " 32: 0.19103626979791702,\n",
              " 31: 0.17476027834493088,\n",
              " 10: 0.10267519030637758,\n",
              " 28: 0.13347932684333308,\n",
              " 29: 0.13107925627221215,\n",
              " 33: 0.3086510477336959,\n",
              " 17: 0.02363479426059687,\n",
              " 34: 0.37337121301323495,\n",
              " 15: 0.10140627846270833,\n",
              " 16: 0.10140627846270833,\n",
              " 19: 0.10140627846270833,\n",
              " 21: 0.10140627846270833,\n",
              " 23: 0.10140627846270833,\n",
              " 24: 0.15012328691726787,\n",
              " 26: 0.05920820250279008,\n",
              " 30: 0.13496528673866567,\n",
              " 25: 0.057053735638028055,\n",
              " 27: 0.07558192219009326}"
            ]
          },
          "metadata": {},
          "execution_count": 5
        }
      ],
      "source": [
        "nx.algorithms.centrality.eigenvector_centrality(G)"
      ]
    },
    {
      "cell_type": "code",
      "execution_count": 6,
      "metadata": {
        "id": "9H44lpKYnwI6"
      },
      "outputs": [],
      "source": [
        "M = nx.to_numpy_array(G)\n",
        "eigenvalue, eigenvector = np.linalg.eig(M)\n",
        "largest = np.array(eigenvector[:, 0].flatten().real)\n",
        "norm = np.sign(largest.sum()) * np.linalg.norm(largest)\n",
        "eigen = largest / norm\n"
      ]
    },
    {
      "cell_type": "code",
      "execution_count": 7,
      "metadata": {
        "id": "6cpm0YJ4i-i3",
        "tags": []
      },
      "outputs": [],
      "source": [
        "import numpy as np\n",
        "def eigen_centrality(G):\n",
        "    #переведем в матрицу numpy\n",
        "    M = nx.to_numpy_array(G)\n",
        "    #получим собственные вектора и собственные значения\n",
        "    eigenvalue, eigenvector = np.linalg.eig(M)\n",
        "    #берем вектор, соответсвующий наибольшему собственному значению\n",
        "    largest = np.array(eigenvector[:, 0].flatten().real)\n",
        "    #нормируем\n",
        "    norm = np.sign(largest.sum()) * np.linalg.norm(largest)\n",
        "    eigen = largest / norm\n",
        "    return dict(zip(G, eigen))"
      ]
    },
    {
      "cell_type": "code",
      "execution_count": 8,
      "metadata": {
        "id": "jDFcpYAWi-i3",
        "tags": [],
        "colab": {
          "base_uri": "https://localhost:8080/"
        },
        "collapsed": true,
        "outputId": "e9957bfc-406c-44d3-aced-5e41f13ffb67"
      },
      "outputs": [
        {
          "output_type": "execute_result",
          "data": {
            "text/plain": [
              "{1: 0.355491444524567,\n",
              " 2: 0.26595991955249243,\n",
              " 3: 0.31719250448643166,\n",
              " 4: 0.21117972037789023,\n",
              " 5: 0.075968818183069,\n",
              " 6: 0.07948304511709949,\n",
              " 7: 0.07948304511709949,\n",
              " 8: 0.17095974804479627,\n",
              " 9: 0.22740390712540007,\n",
              " 11: 0.07596881818306894,\n",
              " 12: 0.05285569749352141,\n",
              " 13: 0.08425462871671373,\n",
              " 14: 0.2264727201424812,\n",
              " 18: 0.09239953819570265,\n",
              " 20: 0.14791251029338756,\n",
              " 22: 0.09239953819570265,\n",
              " 32: 0.1910338414065437,\n",
              " 31: 0.17475830231435285,\n",
              " 10: 0.10267425072358635,\n",
              " 28: 0.13347715338024002,\n",
              " 29: 0.13107782298371043,\n",
              " 33: 0.30864421979104734,\n",
              " 17: 0.023635628104591376,\n",
              " 34: 0.3733634702914828,\n",
              " 15: 0.10140326218952443,\n",
              " 16: 0.10140326218952443,\n",
              " 19: 0.10140326218952443,\n",
              " 21: 0.10140326218952443,\n",
              " 23: 0.10140326218952443,\n",
              " 24: 0.15011857186115274,\n",
              " 26: 0.059206474916778565,\n",
              " 30: 0.13496081926232797,\n",
              " 25: 0.0570524405411657,\n",
              " 27: 0.07557941348827213}"
            ]
          },
          "metadata": {},
          "execution_count": 8
        }
      ],
      "source": [
        "eigen_centrality(G)"
      ]
    },
    {
      "cell_type": "markdown",
      "source": [
        "Gpu"
      ],
      "metadata": {
        "id": "-aMImzasFk0F"
      }
    },
    {
      "cell_type": "code",
      "source": [
        "edges_gpu = cudf.read_csv('karate-data.csv', sep='\\t', names=['source', 'destination'])"
      ],
      "metadata": {
        "id": "Fu-4tCaKFisX"
      },
      "execution_count": 9,
      "outputs": []
    },
    {
      "cell_type": "code",
      "execution_count": 10,
      "metadata": {
        "id": "nsVzEll4i-i3",
        "tags": []
      },
      "outputs": [],
      "source": [
        "#если не добавить веса, то будет все ломаться\n",
        "edges_gpu['weights'] = 1"
      ]
    },
    {
      "cell_type": "code",
      "execution_count": 11,
      "metadata": {
        "id": "61UwZNpKi-i3",
        "scrolled": true,
        "tags": []
      },
      "outputs": [],
      "source": [
        "G_gpu = cg.Graph()\n",
        "G_gpu.from_cudf_edgelist(edges_gpu, source='source', destination='destination', edge_attr='weights')"
      ]
    },
    {
      "cell_type": "markdown",
      "source": [
        "Функция, собирающая матрицу смежности. Делать это таким образом и с использованием edge_list приходится потому, что у cugraph есть только методы преобразования к numpy/pandas."
      ],
      "metadata": {
        "id": "lLgpnRxaN_n_"
      }
    },
    {
      "cell_type": "code",
      "source": [
        "def make_adj_matrix(graph, edge_list):\n",
        "    num_nodes = len(graph.nodes())\n",
        "    adj_matrix = cp.zeros((num_nodes, num_nodes))\n",
        "    for source, destination in edge_list[['source', 'destination']].to_cupy():\n",
        "        adj_matrix[source - 1, destination - 1] = 1\n",
        "    return adj_matrix"
      ],
      "metadata": {
        "id": "tC0BkRpuL5VY"
      },
      "execution_count": 12,
      "outputs": []
    },
    {
      "cell_type": "code",
      "source": [
        "def eigen_centrality_gpu(G, edge_list):\n",
        "    adj_matrix = make_adj_matrix(G, edge_list)\n",
        "    eigenvalue, eigenvector = cp.linalg.eigh(adj_matrix)\n",
        "    largest = cp.array(eigenvector[:, -1].flatten().real)\n",
        "    norm = cp.sign(largest.sum()) * cp.linalg.norm(largest)\n",
        "    eigen = largest / norm\n",
        "    node_list = G.nodes().to_cupy().tolist()\n",
        "    return dict(zip(node_list, eigen.tolist()))"
      ],
      "metadata": {
        "id": "dKtoQbuxF2RV"
      },
      "execution_count": 13,
      "outputs": []
    },
    {
      "cell_type": "code",
      "source": [
        "eigen_centrality_gpu(G_gpu, edges_gpu)"
      ],
      "metadata": {
        "colab": {
          "base_uri": "https://localhost:8080/"
        },
        "collapsed": true,
        "id": "mZxYA1QaFv-5",
        "outputId": "e171882b-f48e-48bc-b183-042649dafe4d"
      },
      "execution_count": 14,
      "outputs": [
        {
          "output_type": "execute_result",
          "data": {
            "text/plain": [
              "{1: 0.35549144452456616,\n",
              " 2: 0.2659599195524917,\n",
              " 3: 0.31719250448643144,\n",
              " 4: 0.21117972037789004,\n",
              " 5: 0.07596881818306887,\n",
              " 6: 0.0794830451170994,\n",
              " 7: 0.07948304511709937,\n",
              " 8: 0.17095974804479608,\n",
              " 9: 0.22740390712540012,\n",
              " 10: 0.10267425072358621,\n",
              " 11: 0.07596881818306887,\n",
              " 12: 0.052855697493521224,\n",
              " 13: 0.08425462871671359,\n",
              " 14: 0.22647272014248107,\n",
              " 15: 0.10140326218952472,\n",
              " 16: 0.10140326218952472,\n",
              " 17: 0.023635628104591418,\n",
              " 18: 0.09239953819570243,\n",
              " 19: 0.10140326218952472,\n",
              " 20: 0.14791251029338742,\n",
              " 21: 0.10140326218952472,\n",
              " 22: 0.09239953819570243,\n",
              " 23: 0.10140326218952472,\n",
              " 24: 0.15011857186115307,\n",
              " 25: 0.057052440541165775,\n",
              " 26: 0.05920647491677864,\n",
              " 27: 0.07557941348827224,\n",
              " 28: 0.13347715338024016,\n",
              " 29: 0.1310778229837109,\n",
              " 30: 0.13496081926232806,\n",
              " 31: 0.174758302314353,\n",
              " 32: 0.1910338414065438,\n",
              " 33: 0.30864421979104756,\n",
              " 34: 0.3733634702914836}"
            ]
          },
          "metadata": {},
          "execution_count": 14
        }
      ]
    },
    {
      "cell_type": "markdown",
      "source": [
        "### 2, 3)."
      ],
      "metadata": {
        "id": "4-i212pfUiwO"
      }
    },
    {
      "cell_type": "code",
      "source": [
        "def get_centrality_by_degree(g):\n",
        "    centrality = g.degree()\n",
        "    centrality['degree_centrality'] = centrality['degree'] / (len(g.nodes())-1) / 2\n",
        "    centrality = centrality.sort_values(by='degree_centrality', ascending=False)\n",
        "    return centrality"
      ],
      "metadata": {
        "id": "V1pATrRO-uPL"
      },
      "execution_count": 15,
      "outputs": []
    },
    {
      "cell_type": "code",
      "source": [
        "centrality_by_degree = get_centrality_by_degree(G_gpu)\n",
        "centrality_by_degree_list = centrality_by_degree['vertex'].to_arrow().to_pylist()"
      ],
      "metadata": {
        "id": "M5dkSsgba6nt"
      },
      "execution_count": 16,
      "outputs": []
    },
    {
      "cell_type": "code",
      "source": [
        "def get_centrality_by_betweenness(g):\n",
        "    centrality = cg.centrality.betweenness_centrality(g)\n",
        "    centrality = centrality.sort_values(by='betweenness_centrality', ascending=False)\n",
        "    return centrality"
      ],
      "metadata": {
        "id": "5xqTN7TKa6jl"
      },
      "execution_count": 17,
      "outputs": []
    },
    {
      "cell_type": "code",
      "source": [
        "centrality_by_betweenness = get_centrality_by_betweenness(G_gpu)"
      ],
      "metadata": {
        "id": "c7n86z8Ma6gF"
      },
      "execution_count": 18,
      "outputs": []
    },
    {
      "cell_type": "code",
      "source": [
        "eigen_centrality = eigen_centrality_gpu(G_gpu, edges_gpu)\n",
        "eigen_centrality_df = cudf.DataFrame(list(eigen_centrality.items()), columns=['vertex', 'eigen_centrality'])\n",
        "eigen_centrality_df = eigen_centrality_df.sort_values(by='eigen_centrality', ascending=False)\n",
        "eigen_centrality_df = eigen_centrality_df.reset_index(drop=True)"
      ],
      "metadata": {
        "id": "q-UZgmDsa6de"
      },
      "execution_count": 19,
      "outputs": []
    },
    {
      "cell_type": "code",
      "source": [
        "def get_pagerank(g):\n",
        "    pagerank = cg.link_analysis.pagerank(G_gpu)\n",
        "    pagerank = pagerank.sort_values(by='pagerank', ascending=False)\n",
        "    return pagerank"
      ],
      "metadata": {
        "id": "7aX94gsOa6bC"
      },
      "execution_count": 20,
      "outputs": []
    },
    {
      "cell_type": "code",
      "source": [
        "pagerank = get_pagerank(G_gpu)"
      ],
      "metadata": {
        "colab": {
          "base_uri": "https://localhost:8080/"
        },
        "id": "Rcb2xc97bXO-",
        "outputId": "59b9c499-403b-4910-c205-1230e2ef851e"
      },
      "execution_count": 21,
      "outputs": [
        {
          "output_type": "stream",
          "name": "stderr",
          "text": [
            "/usr/local/lib/python3.10/dist-packages/cugraph/link_analysis/pagerank.py:227: UserWarning: Pagerank expects the 'store_transposed' flag to be set to 'True' for optimal performance during the graph creation\n",
            "  warnings.warn(warning_msg, UserWarning)\n"
          ]
        }
      ]
    },
    {
      "cell_type": "markdown",
      "source": [
        "Таблица сравнения характеристик для каждой вершины"
      ],
      "metadata": {
        "id": "m0h8P0RLoVWJ"
      }
    },
    {
      "cell_type": "code",
      "source": [
        "all_metrics = centrality_by_degree.set_index('vertex')\\\n",
        "    .join(centrality_by_betweenness.set_index('vertex'))\\\n",
        "    .join(eigen_centrality_df.set_index('vertex'))\\\n",
        "    .join(pagerank.set_index('vertex'))\\\n",
        "    .sort_values(by='degree_centrality', ascending=False)"
      ],
      "metadata": {
        "id": "R1bTuDB0bv_l"
      },
      "execution_count": 22,
      "outputs": []
    },
    {
      "cell_type": "code",
      "source": [
        "all_metrics"
      ],
      "metadata": {
        "colab": {
          "base_uri": "https://localhost:8080/",
          "height": 1000
        },
        "id": "bwxHurI-dPhw",
        "outputId": "1f792911-d8dd-413c-f0eb-92f9518e45fe"
      },
      "execution_count": 23,
      "outputs": [
        {
          "output_type": "execute_result",
          "data": {
            "text/plain": [
              "        degree  degree_centrality  betweenness_centrality  eigen_centrality  \\\n",
              "vertex                                                                        \n",
              "34          34           0.515152                0.304075          0.373363   \n",
              "1           32           0.484848                0.437635          0.355491   \n",
              "33          24           0.363636                0.145247          0.308644   \n",
              "3           20           0.303030                0.143657          0.317193   \n",
              "2           18           0.272727                0.053937          0.265960   \n",
              "4           12           0.181818                0.011909          0.211180   \n",
              "32          12           0.181818                0.138276          0.191034   \n",
              "9           10           0.151515                0.055927          0.227404   \n",
              "14          10           0.151515                0.045863          0.226473   \n",
              "24          10           0.151515                0.017614          0.150119   \n",
              "6            8           0.121212                0.029987          0.079483   \n",
              "7            8           0.121212                0.029987          0.079483   \n",
              "8            8           0.121212                0.000000          0.170960   \n",
              "28           8           0.121212                0.022333          0.133477   \n",
              "30           8           0.121212                0.002922          0.134961   \n",
              "31           8           0.121212                0.014412          0.174758   \n",
              "5            6           0.090909                0.000631          0.075969   \n",
              "11           6           0.090909                0.000631          0.075969   \n",
              "20           6           0.090909                0.032475          0.147913   \n",
              "25           6           0.090909                0.002210          0.057052   \n",
              "26           6           0.090909                0.003840          0.059206   \n",
              "29           6           0.090909                0.001795          0.131078   \n",
              "19           4           0.060606                0.000000          0.101403   \n",
              "21           4           0.060606                0.000000          0.101403   \n",
              "27           4           0.060606                0.000000          0.075579   \n",
              "22           4           0.060606                0.000000          0.092400   \n",
              "23           4           0.060606                0.000000          0.101403   \n",
              "10           4           0.060606                0.000848          0.102674   \n",
              "13           4           0.060606                0.000000          0.084255   \n",
              "15           4           0.060606                0.000000          0.101403   \n",
              "16           4           0.060606                0.000000          0.101403   \n",
              "17           4           0.060606                0.000000          0.023636   \n",
              "18           4           0.060606                0.000000          0.092400   \n",
              "12           2           0.030303                0.000000          0.052856   \n",
              "\n",
              "        pagerank  \n",
              "vertex            \n",
              "34      0.100917  \n",
              "1       0.096999  \n",
              "33      0.071692  \n",
              "3       0.057078  \n",
              "2       0.052877  \n",
              "4       0.035860  \n",
              "32      0.037158  \n",
              "9       0.029766  \n",
              "14      0.029537  \n",
              "24      0.031522  \n",
              "6       0.029112  \n",
              "7       0.029112  \n",
              "8       0.024491  \n",
              "28      0.025639  \n",
              "30      0.026288  \n",
              "31      0.024590  \n",
              "5       0.021979  \n",
              "11      0.021979  \n",
              "20      0.019605  \n",
              "25      0.021076  \n",
              "26      0.021006  \n",
              "29      0.019573  \n",
              "19      0.014536  \n",
              "21      0.014536  \n",
              "27      0.015044  \n",
              "22      0.014559  \n",
              "23      0.014536  \n",
              "10      0.014309  \n",
              "13      0.014645  \n",
              "15      0.014536  \n",
              "16      0.014536  \n",
              "17      0.016785  \n",
              "18      0.014559  \n",
              "12      0.009565  "
            ],
            "text/html": [
              "<div>\n",
              "<style scoped>\n",
              "    .dataframe tbody tr th:only-of-type {\n",
              "        vertical-align: middle;\n",
              "    }\n",
              "\n",
              "    .dataframe tbody tr th {\n",
              "        vertical-align: top;\n",
              "    }\n",
              "\n",
              "    .dataframe thead th {\n",
              "        text-align: right;\n",
              "    }\n",
              "</style>\n",
              "<table border=\"1\" class=\"dataframe\">\n",
              "  <thead>\n",
              "    <tr style=\"text-align: right;\">\n",
              "      <th></th>\n",
              "      <th>degree</th>\n",
              "      <th>degree_centrality</th>\n",
              "      <th>betweenness_centrality</th>\n",
              "      <th>eigen_centrality</th>\n",
              "      <th>pagerank</th>\n",
              "    </tr>\n",
              "    <tr>\n",
              "      <th>vertex</th>\n",
              "      <th></th>\n",
              "      <th></th>\n",
              "      <th></th>\n",
              "      <th></th>\n",
              "      <th></th>\n",
              "    </tr>\n",
              "  </thead>\n",
              "  <tbody>\n",
              "    <tr>\n",
              "      <th>34</th>\n",
              "      <td>34</td>\n",
              "      <td>0.515152</td>\n",
              "      <td>0.304075</td>\n",
              "      <td>0.373363</td>\n",
              "      <td>0.100917</td>\n",
              "    </tr>\n",
              "    <tr>\n",
              "      <th>1</th>\n",
              "      <td>32</td>\n",
              "      <td>0.484848</td>\n",
              "      <td>0.437635</td>\n",
              "      <td>0.355491</td>\n",
              "      <td>0.096999</td>\n",
              "    </tr>\n",
              "    <tr>\n",
              "      <th>33</th>\n",
              "      <td>24</td>\n",
              "      <td>0.363636</td>\n",
              "      <td>0.145247</td>\n",
              "      <td>0.308644</td>\n",
              "      <td>0.071692</td>\n",
              "    </tr>\n",
              "    <tr>\n",
              "      <th>3</th>\n",
              "      <td>20</td>\n",
              "      <td>0.303030</td>\n",
              "      <td>0.143657</td>\n",
              "      <td>0.317193</td>\n",
              "      <td>0.057078</td>\n",
              "    </tr>\n",
              "    <tr>\n",
              "      <th>2</th>\n",
              "      <td>18</td>\n",
              "      <td>0.272727</td>\n",
              "      <td>0.053937</td>\n",
              "      <td>0.265960</td>\n",
              "      <td>0.052877</td>\n",
              "    </tr>\n",
              "    <tr>\n",
              "      <th>4</th>\n",
              "      <td>12</td>\n",
              "      <td>0.181818</td>\n",
              "      <td>0.011909</td>\n",
              "      <td>0.211180</td>\n",
              "      <td>0.035860</td>\n",
              "    </tr>\n",
              "    <tr>\n",
              "      <th>32</th>\n",
              "      <td>12</td>\n",
              "      <td>0.181818</td>\n",
              "      <td>0.138276</td>\n",
              "      <td>0.191034</td>\n",
              "      <td>0.037158</td>\n",
              "    </tr>\n",
              "    <tr>\n",
              "      <th>9</th>\n",
              "      <td>10</td>\n",
              "      <td>0.151515</td>\n",
              "      <td>0.055927</td>\n",
              "      <td>0.227404</td>\n",
              "      <td>0.029766</td>\n",
              "    </tr>\n",
              "    <tr>\n",
              "      <th>14</th>\n",
              "      <td>10</td>\n",
              "      <td>0.151515</td>\n",
              "      <td>0.045863</td>\n",
              "      <td>0.226473</td>\n",
              "      <td>0.029537</td>\n",
              "    </tr>\n",
              "    <tr>\n",
              "      <th>24</th>\n",
              "      <td>10</td>\n",
              "      <td>0.151515</td>\n",
              "      <td>0.017614</td>\n",
              "      <td>0.150119</td>\n",
              "      <td>0.031522</td>\n",
              "    </tr>\n",
              "    <tr>\n",
              "      <th>6</th>\n",
              "      <td>8</td>\n",
              "      <td>0.121212</td>\n",
              "      <td>0.029987</td>\n",
              "      <td>0.079483</td>\n",
              "      <td>0.029112</td>\n",
              "    </tr>\n",
              "    <tr>\n",
              "      <th>7</th>\n",
              "      <td>8</td>\n",
              "      <td>0.121212</td>\n",
              "      <td>0.029987</td>\n",
              "      <td>0.079483</td>\n",
              "      <td>0.029112</td>\n",
              "    </tr>\n",
              "    <tr>\n",
              "      <th>8</th>\n",
              "      <td>8</td>\n",
              "      <td>0.121212</td>\n",
              "      <td>0.000000</td>\n",
              "      <td>0.170960</td>\n",
              "      <td>0.024491</td>\n",
              "    </tr>\n",
              "    <tr>\n",
              "      <th>28</th>\n",
              "      <td>8</td>\n",
              "      <td>0.121212</td>\n",
              "      <td>0.022333</td>\n",
              "      <td>0.133477</td>\n",
              "      <td>0.025639</td>\n",
              "    </tr>\n",
              "    <tr>\n",
              "      <th>30</th>\n",
              "      <td>8</td>\n",
              "      <td>0.121212</td>\n",
              "      <td>0.002922</td>\n",
              "      <td>0.134961</td>\n",
              "      <td>0.026288</td>\n",
              "    </tr>\n",
              "    <tr>\n",
              "      <th>31</th>\n",
              "      <td>8</td>\n",
              "      <td>0.121212</td>\n",
              "      <td>0.014412</td>\n",
              "      <td>0.174758</td>\n",
              "      <td>0.024590</td>\n",
              "    </tr>\n",
              "    <tr>\n",
              "      <th>5</th>\n",
              "      <td>6</td>\n",
              "      <td>0.090909</td>\n",
              "      <td>0.000631</td>\n",
              "      <td>0.075969</td>\n",
              "      <td>0.021979</td>\n",
              "    </tr>\n",
              "    <tr>\n",
              "      <th>11</th>\n",
              "      <td>6</td>\n",
              "      <td>0.090909</td>\n",
              "      <td>0.000631</td>\n",
              "      <td>0.075969</td>\n",
              "      <td>0.021979</td>\n",
              "    </tr>\n",
              "    <tr>\n",
              "      <th>20</th>\n",
              "      <td>6</td>\n",
              "      <td>0.090909</td>\n",
              "      <td>0.032475</td>\n",
              "      <td>0.147913</td>\n",
              "      <td>0.019605</td>\n",
              "    </tr>\n",
              "    <tr>\n",
              "      <th>25</th>\n",
              "      <td>6</td>\n",
              "      <td>0.090909</td>\n",
              "      <td>0.002210</td>\n",
              "      <td>0.057052</td>\n",
              "      <td>0.021076</td>\n",
              "    </tr>\n",
              "    <tr>\n",
              "      <th>26</th>\n",
              "      <td>6</td>\n",
              "      <td>0.090909</td>\n",
              "      <td>0.003840</td>\n",
              "      <td>0.059206</td>\n",
              "      <td>0.021006</td>\n",
              "    </tr>\n",
              "    <tr>\n",
              "      <th>29</th>\n",
              "      <td>6</td>\n",
              "      <td>0.090909</td>\n",
              "      <td>0.001795</td>\n",
              "      <td>0.131078</td>\n",
              "      <td>0.019573</td>\n",
              "    </tr>\n",
              "    <tr>\n",
              "      <th>19</th>\n",
              "      <td>4</td>\n",
              "      <td>0.060606</td>\n",
              "      <td>0.000000</td>\n",
              "      <td>0.101403</td>\n",
              "      <td>0.014536</td>\n",
              "    </tr>\n",
              "    <tr>\n",
              "      <th>21</th>\n",
              "      <td>4</td>\n",
              "      <td>0.060606</td>\n",
              "      <td>0.000000</td>\n",
              "      <td>0.101403</td>\n",
              "      <td>0.014536</td>\n",
              "    </tr>\n",
              "    <tr>\n",
              "      <th>27</th>\n",
              "      <td>4</td>\n",
              "      <td>0.060606</td>\n",
              "      <td>0.000000</td>\n",
              "      <td>0.075579</td>\n",
              "      <td>0.015044</td>\n",
              "    </tr>\n",
              "    <tr>\n",
              "      <th>22</th>\n",
              "      <td>4</td>\n",
              "      <td>0.060606</td>\n",
              "      <td>0.000000</td>\n",
              "      <td>0.092400</td>\n",
              "      <td>0.014559</td>\n",
              "    </tr>\n",
              "    <tr>\n",
              "      <th>23</th>\n",
              "      <td>4</td>\n",
              "      <td>0.060606</td>\n",
              "      <td>0.000000</td>\n",
              "      <td>0.101403</td>\n",
              "      <td>0.014536</td>\n",
              "    </tr>\n",
              "    <tr>\n",
              "      <th>10</th>\n",
              "      <td>4</td>\n",
              "      <td>0.060606</td>\n",
              "      <td>0.000848</td>\n",
              "      <td>0.102674</td>\n",
              "      <td>0.014309</td>\n",
              "    </tr>\n",
              "    <tr>\n",
              "      <th>13</th>\n",
              "      <td>4</td>\n",
              "      <td>0.060606</td>\n",
              "      <td>0.000000</td>\n",
              "      <td>0.084255</td>\n",
              "      <td>0.014645</td>\n",
              "    </tr>\n",
              "    <tr>\n",
              "      <th>15</th>\n",
              "      <td>4</td>\n",
              "      <td>0.060606</td>\n",
              "      <td>0.000000</td>\n",
              "      <td>0.101403</td>\n",
              "      <td>0.014536</td>\n",
              "    </tr>\n",
              "    <tr>\n",
              "      <th>16</th>\n",
              "      <td>4</td>\n",
              "      <td>0.060606</td>\n",
              "      <td>0.000000</td>\n",
              "      <td>0.101403</td>\n",
              "      <td>0.014536</td>\n",
              "    </tr>\n",
              "    <tr>\n",
              "      <th>17</th>\n",
              "      <td>4</td>\n",
              "      <td>0.060606</td>\n",
              "      <td>0.000000</td>\n",
              "      <td>0.023636</td>\n",
              "      <td>0.016785</td>\n",
              "    </tr>\n",
              "    <tr>\n",
              "      <th>18</th>\n",
              "      <td>4</td>\n",
              "      <td>0.060606</td>\n",
              "      <td>0.000000</td>\n",
              "      <td>0.092400</td>\n",
              "      <td>0.014559</td>\n",
              "    </tr>\n",
              "    <tr>\n",
              "      <th>12</th>\n",
              "      <td>2</td>\n",
              "      <td>0.030303</td>\n",
              "      <td>0.000000</td>\n",
              "      <td>0.052856</td>\n",
              "      <td>0.009565</td>\n",
              "    </tr>\n",
              "  </tbody>\n",
              "</table>\n",
              "</div>"
            ]
          },
          "metadata": {},
          "execution_count": 23
        }
      ]
    },
    {
      "cell_type": "markdown",
      "source": [
        "Таблица сравнения списков вершин, осортированных по соответсвующим характеристикам"
      ],
      "metadata": {
        "id": "u9_JTHjHoK98"
      }
    },
    {
      "cell_type": "code",
      "source": [
        "all_metrics_vertex_order = centrality_by_degree.drop(columns=['degree_centrality'])\\\n",
        "    .merge(centrality_by_betweenness.drop(columns=['betweenness_centrality']), left_index=True, right_index=True, suffixes=(\"_betweenness\", \"\"))\\\n",
        "    .merge(pagerank.drop(columns=['pagerank']), left_index=True, right_index=True, suffixes=(\"_pagerank\", \"\"))\\\n",
        "    .merge(eigen_centrality_df.drop(columns=['eigen_centrality']), left_index=True, right_index=True, suffixes=(\"_eigen\", \"\"))\\\n",
        "    .sort_values(by='degree', ascending=False)"
      ],
      "metadata": {
        "id": "U_JUsF1keptA"
      },
      "execution_count": 24,
      "outputs": []
    },
    {
      "cell_type": "code",
      "source": [
        "all_metrics_vertex_order"
      ],
      "metadata": {
        "colab": {
          "base_uri": "https://localhost:8080/",
          "height": 1000
        },
        "id": "3bF78bHpepqG",
        "outputId": "6d5e2e91-28c4-439e-98de-b350eaeac134"
      },
      "execution_count": 25,
      "outputs": [
        {
          "output_type": "execute_result",
          "data": {
            "text/plain": [
              "    degree  vertex_betweenness  vertex_pagerank  vertex_eigen  vertex\n",
              "0       34                  34               34            34      34\n",
              "1       32                   1                1             1       1\n",
              "2       24                  33               33            33       3\n",
              "3       20                   3                3             3      33\n",
              "4       18                   2                2             2       2\n",
              "5       12                   4                4             4       9\n",
              "6       12                  32               32            32      14\n",
              "7       10                   9                9             9       4\n",
              "8       10                  14               14            14      32\n",
              "9       10                  24               24            24      31\n",
              "10       8                   6                6             6       8\n",
              "11       8                   7                7             7      24\n",
              "12       8                   8                8             8      20\n",
              "13       8                  28               28            28      30\n",
              "14       8                  30               30            30      28\n",
              "15       8                  31               31            31      29\n",
              "16       6                   5                5             5      10\n",
              "17       6                  11               11            11      15\n",
              "18       6                  20               20            20      16\n",
              "19       6                  25               25            25      19\n",
              "20       6                  26               26            26      21\n",
              "21       6                  29               29            29      23\n",
              "30       4                  22               22            22      26\n",
              "31       4                  23               23            23      25\n",
              "32       4                  27               27            27      12\n",
              "28       4                  19               19            19      11\n",
              "29       4                  21               21            21      27\n",
              "22       4                  10               10            10      18\n",
              "23       4                  13               13            13      22\n",
              "24       4                  15               15            15      13\n",
              "25       4                  16               16            16       6\n",
              "26       4                  17               17            17       7\n",
              "27       4                  18               18            18       5\n",
              "33       2                  12               12            12      17"
            ],
            "text/html": [
              "<div>\n",
              "<style scoped>\n",
              "    .dataframe tbody tr th:only-of-type {\n",
              "        vertical-align: middle;\n",
              "    }\n",
              "\n",
              "    .dataframe tbody tr th {\n",
              "        vertical-align: top;\n",
              "    }\n",
              "\n",
              "    .dataframe thead th {\n",
              "        text-align: right;\n",
              "    }\n",
              "</style>\n",
              "<table border=\"1\" class=\"dataframe\">\n",
              "  <thead>\n",
              "    <tr style=\"text-align: right;\">\n",
              "      <th></th>\n",
              "      <th>degree</th>\n",
              "      <th>vertex_betweenness</th>\n",
              "      <th>vertex_pagerank</th>\n",
              "      <th>vertex_eigen</th>\n",
              "      <th>vertex</th>\n",
              "    </tr>\n",
              "  </thead>\n",
              "  <tbody>\n",
              "    <tr>\n",
              "      <th>0</th>\n",
              "      <td>34</td>\n",
              "      <td>34</td>\n",
              "      <td>34</td>\n",
              "      <td>34</td>\n",
              "      <td>34</td>\n",
              "    </tr>\n",
              "    <tr>\n",
              "      <th>1</th>\n",
              "      <td>32</td>\n",
              "      <td>1</td>\n",
              "      <td>1</td>\n",
              "      <td>1</td>\n",
              "      <td>1</td>\n",
              "    </tr>\n",
              "    <tr>\n",
              "      <th>2</th>\n",
              "      <td>24</td>\n",
              "      <td>33</td>\n",
              "      <td>33</td>\n",
              "      <td>33</td>\n",
              "      <td>3</td>\n",
              "    </tr>\n",
              "    <tr>\n",
              "      <th>3</th>\n",
              "      <td>20</td>\n",
              "      <td>3</td>\n",
              "      <td>3</td>\n",
              "      <td>3</td>\n",
              "      <td>33</td>\n",
              "    </tr>\n",
              "    <tr>\n",
              "      <th>4</th>\n",
              "      <td>18</td>\n",
              "      <td>2</td>\n",
              "      <td>2</td>\n",
              "      <td>2</td>\n",
              "      <td>2</td>\n",
              "    </tr>\n",
              "    <tr>\n",
              "      <th>5</th>\n",
              "      <td>12</td>\n",
              "      <td>4</td>\n",
              "      <td>4</td>\n",
              "      <td>4</td>\n",
              "      <td>9</td>\n",
              "    </tr>\n",
              "    <tr>\n",
              "      <th>6</th>\n",
              "      <td>12</td>\n",
              "      <td>32</td>\n",
              "      <td>32</td>\n",
              "      <td>32</td>\n",
              "      <td>14</td>\n",
              "    </tr>\n",
              "    <tr>\n",
              "      <th>7</th>\n",
              "      <td>10</td>\n",
              "      <td>9</td>\n",
              "      <td>9</td>\n",
              "      <td>9</td>\n",
              "      <td>4</td>\n",
              "    </tr>\n",
              "    <tr>\n",
              "      <th>8</th>\n",
              "      <td>10</td>\n",
              "      <td>14</td>\n",
              "      <td>14</td>\n",
              "      <td>14</td>\n",
              "      <td>32</td>\n",
              "    </tr>\n",
              "    <tr>\n",
              "      <th>9</th>\n",
              "      <td>10</td>\n",
              "      <td>24</td>\n",
              "      <td>24</td>\n",
              "      <td>24</td>\n",
              "      <td>31</td>\n",
              "    </tr>\n",
              "    <tr>\n",
              "      <th>10</th>\n",
              "      <td>8</td>\n",
              "      <td>6</td>\n",
              "      <td>6</td>\n",
              "      <td>6</td>\n",
              "      <td>8</td>\n",
              "    </tr>\n",
              "    <tr>\n",
              "      <th>11</th>\n",
              "      <td>8</td>\n",
              "      <td>7</td>\n",
              "      <td>7</td>\n",
              "      <td>7</td>\n",
              "      <td>24</td>\n",
              "    </tr>\n",
              "    <tr>\n",
              "      <th>12</th>\n",
              "      <td>8</td>\n",
              "      <td>8</td>\n",
              "      <td>8</td>\n",
              "      <td>8</td>\n",
              "      <td>20</td>\n",
              "    </tr>\n",
              "    <tr>\n",
              "      <th>13</th>\n",
              "      <td>8</td>\n",
              "      <td>28</td>\n",
              "      <td>28</td>\n",
              "      <td>28</td>\n",
              "      <td>30</td>\n",
              "    </tr>\n",
              "    <tr>\n",
              "      <th>14</th>\n",
              "      <td>8</td>\n",
              "      <td>30</td>\n",
              "      <td>30</td>\n",
              "      <td>30</td>\n",
              "      <td>28</td>\n",
              "    </tr>\n",
              "    <tr>\n",
              "      <th>15</th>\n",
              "      <td>8</td>\n",
              "      <td>31</td>\n",
              "      <td>31</td>\n",
              "      <td>31</td>\n",
              "      <td>29</td>\n",
              "    </tr>\n",
              "    <tr>\n",
              "      <th>16</th>\n",
              "      <td>6</td>\n",
              "      <td>5</td>\n",
              "      <td>5</td>\n",
              "      <td>5</td>\n",
              "      <td>10</td>\n",
              "    </tr>\n",
              "    <tr>\n",
              "      <th>17</th>\n",
              "      <td>6</td>\n",
              "      <td>11</td>\n",
              "      <td>11</td>\n",
              "      <td>11</td>\n",
              "      <td>15</td>\n",
              "    </tr>\n",
              "    <tr>\n",
              "      <th>18</th>\n",
              "      <td>6</td>\n",
              "      <td>20</td>\n",
              "      <td>20</td>\n",
              "      <td>20</td>\n",
              "      <td>16</td>\n",
              "    </tr>\n",
              "    <tr>\n",
              "      <th>19</th>\n",
              "      <td>6</td>\n",
              "      <td>25</td>\n",
              "      <td>25</td>\n",
              "      <td>25</td>\n",
              "      <td>19</td>\n",
              "    </tr>\n",
              "    <tr>\n",
              "      <th>20</th>\n",
              "      <td>6</td>\n",
              "      <td>26</td>\n",
              "      <td>26</td>\n",
              "      <td>26</td>\n",
              "      <td>21</td>\n",
              "    </tr>\n",
              "    <tr>\n",
              "      <th>21</th>\n",
              "      <td>6</td>\n",
              "      <td>29</td>\n",
              "      <td>29</td>\n",
              "      <td>29</td>\n",
              "      <td>23</td>\n",
              "    </tr>\n",
              "    <tr>\n",
              "      <th>30</th>\n",
              "      <td>4</td>\n",
              "      <td>22</td>\n",
              "      <td>22</td>\n",
              "      <td>22</td>\n",
              "      <td>26</td>\n",
              "    </tr>\n",
              "    <tr>\n",
              "      <th>31</th>\n",
              "      <td>4</td>\n",
              "      <td>23</td>\n",
              "      <td>23</td>\n",
              "      <td>23</td>\n",
              "      <td>25</td>\n",
              "    </tr>\n",
              "    <tr>\n",
              "      <th>32</th>\n",
              "      <td>4</td>\n",
              "      <td>27</td>\n",
              "      <td>27</td>\n",
              "      <td>27</td>\n",
              "      <td>12</td>\n",
              "    </tr>\n",
              "    <tr>\n",
              "      <th>28</th>\n",
              "      <td>4</td>\n",
              "      <td>19</td>\n",
              "      <td>19</td>\n",
              "      <td>19</td>\n",
              "      <td>11</td>\n",
              "    </tr>\n",
              "    <tr>\n",
              "      <th>29</th>\n",
              "      <td>4</td>\n",
              "      <td>21</td>\n",
              "      <td>21</td>\n",
              "      <td>21</td>\n",
              "      <td>27</td>\n",
              "    </tr>\n",
              "    <tr>\n",
              "      <th>22</th>\n",
              "      <td>4</td>\n",
              "      <td>10</td>\n",
              "      <td>10</td>\n",
              "      <td>10</td>\n",
              "      <td>18</td>\n",
              "    </tr>\n",
              "    <tr>\n",
              "      <th>23</th>\n",
              "      <td>4</td>\n",
              "      <td>13</td>\n",
              "      <td>13</td>\n",
              "      <td>13</td>\n",
              "      <td>22</td>\n",
              "    </tr>\n",
              "    <tr>\n",
              "      <th>24</th>\n",
              "      <td>4</td>\n",
              "      <td>15</td>\n",
              "      <td>15</td>\n",
              "      <td>15</td>\n",
              "      <td>13</td>\n",
              "    </tr>\n",
              "    <tr>\n",
              "      <th>25</th>\n",
              "      <td>4</td>\n",
              "      <td>16</td>\n",
              "      <td>16</td>\n",
              "      <td>16</td>\n",
              "      <td>6</td>\n",
              "    </tr>\n",
              "    <tr>\n",
              "      <th>26</th>\n",
              "      <td>4</td>\n",
              "      <td>17</td>\n",
              "      <td>17</td>\n",
              "      <td>17</td>\n",
              "      <td>7</td>\n",
              "    </tr>\n",
              "    <tr>\n",
              "      <th>27</th>\n",
              "      <td>4</td>\n",
              "      <td>18</td>\n",
              "      <td>18</td>\n",
              "      <td>18</td>\n",
              "      <td>5</td>\n",
              "    </tr>\n",
              "    <tr>\n",
              "      <th>33</th>\n",
              "      <td>2</td>\n",
              "      <td>12</td>\n",
              "      <td>12</td>\n",
              "      <td>12</td>\n",
              "      <td>17</td>\n",
              "    </tr>\n",
              "  </tbody>\n",
              "</table>\n",
              "</div>"
            ]
          },
          "metadata": {},
          "execution_count": 25
        }
      ]
    },
    {
      "cell_type": "markdown",
      "source": [
        "Как можно видеть из полученных таблиц, для всех 4 методов порядок вершин при сортировке по характеристике довольно похож (кроме centrality_by_degree). Сильнее всего отличается от трех других centrality_by_degree, это объясняется тем, что эта характеристика в отличии от других никак не учитывает глобальную структуру графа. Также у всех характеристик отличаются абсолютные значения и скорость падения. Можно также отметить, что единственная характеристика, где значение бывает 0 - это centrality_by_betweenness. Это связано с тем, что существуют вершины, через которые вообще не проходят пути."
      ],
      "metadata": {
        "id": "3gxdquq0dz2_"
      }
    }
  ],
  "metadata": {
    "kernelspec": {
      "display_name": "Python 3",
      "name": "python3"
    },
    "language_info": {
      "codemirror_mode": {
        "name": "ipython",
        "version": 3
      },
      "file_extension": ".py",
      "mimetype": "text/x-python",
      "name": "python",
      "nbconvert_exporter": "python",
      "pygments_lexer": "ipython3",
      "version": "3.8.8"
    },
    "colab": {
      "provenance": [],
      "gpuType": "T4"
    },
    "accelerator": "GPU"
  },
  "nbformat": 4,
  "nbformat_minor": 0
}