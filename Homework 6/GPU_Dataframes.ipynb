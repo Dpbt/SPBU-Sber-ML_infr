{
  "nbformat": 4,
  "nbformat_minor": 0,
  "metadata": {
    "colab": {
      "provenance": [],
      "gpuType": "T4",
      "collapsed_sections": [
        "xEEJyrC8c01k"
      ]
    },
    "kernelspec": {
      "name": "python3",
      "display_name": "Python 3"
    },
    "language_info": {
      "name": "python"
    },
    "accelerator": "GPU"
  },
  "cells": [
    {
      "cell_type": "code",
      "source": [
        "%%capture\n",
        "!pip install dask_cuda dask-cudf-cu12"
      ],
      "metadata": {
        "id": "ErCma3wUddDm"
      },
      "execution_count": 1,
      "outputs": []
    },
    {
      "cell_type": "code",
      "source": [
        "%%capture\n",
        "!pip install polars[gpu] -U --extra-index-url=https://pypi.nvidia.com"
      ],
      "metadata": {
        "id": "6zdCEMClddAq"
      },
      "execution_count": 2,
      "outputs": []
    },
    {
      "cell_type": "code",
      "source": [
        "import cudf\n",
        "import cupy as cp\n",
        "import pandas as pd\n",
        "import numpy as np\n",
        "import polars as pl"
      ],
      "metadata": {
        "id": "vU9u-5B7dk_Q"
      },
      "execution_count": 3,
      "outputs": []
    },
    {
      "cell_type": "code",
      "source": [
        "from dask_cuda import LocalCUDACluster\n",
        "from dask.distributed import Client, progress\n",
        "import dask_cudf\n",
        "import dask.dataframe as dd"
      ],
      "metadata": {
        "id": "vkBCTYHKd-zO"
      },
      "execution_count": 4,
      "outputs": []
    },
    {
      "cell_type": "markdown",
      "source": [
        "# Домашнее задание 1"
      ],
      "metadata": {
        "id": "xEEJyrC8c01k"
      }
    },
    {
      "cell_type": "markdown",
      "source": [
        "Так как синтаксис очень похож на numpy, то ничего сложного в cupy нет.\n",
        "Придумайте какую-нибудь функцию только с использованием numpy и не в одну операцию, чтобы она несла какой-то смысл. Что-то аналогичное функции из занятия l2norm_dec:\n",
        "\n",
        "    def l2norm_dec(x):\n",
        "        return cp.sqrt(cp.sum(cp.power(x, 2), axis=1))\n",
        "        \n",
        "Можно взять норму Фробениуса для матрицы.\n",
        "\n",
        "Запишите эту же функцию при помощи cupy\n",
        "\n",
        "Третья функция - cupy + декоратор @cp.fuse()\n",
        "\n",
        "Сравните время выполнения=)"
      ],
      "metadata": {
        "id": "OxxbrZigc0ya"
      }
    },
    {
      "cell_type": "code",
      "source": [
        "def frobenius_norm_np(x):\n",
        "    return np.sqrt(np.sum(np.power(x, 2)))"
      ],
      "metadata": {
        "id": "vi3dAiXKhpgL"
      },
      "execution_count": 5,
      "outputs": []
    },
    {
      "cell_type": "code",
      "source": [
        "@cp.fuse()\n",
        "def frobenius_norm_cp(x):\n",
        "    return cp.sqrt(cp.sum(cp.power(x, 2)))"
      ],
      "metadata": {
        "id": "bdr1K3gydRQM"
      },
      "execution_count": 6,
      "outputs": []
    },
    {
      "cell_type": "code",
      "source": [
        "frobenius_norm_kernel = cp.ReductionKernel(\n",
        "    'T x',  # input params\n",
        "    'T y',  # output params\n",
        "    'x * x',  # map\n",
        "    'a + b',  # reduce\n",
        "    'y = sqrt(a)',  # post-reduction map\n",
        "    '0',  # identity value\n",
        "    'frobenius_norm'  # kernel name\n",
        ")"
      ],
      "metadata": {
        "id": "FmkaYMXchcsE"
      },
      "execution_count": 7,
      "outputs": []
    },
    {
      "cell_type": "code",
      "source": [
        "x = np.arange(10, dtype=np.float32).reshape(2, 5)"
      ],
      "metadata": {
        "id": "VPqWYZ2UjdAC"
      },
      "execution_count": 8,
      "outputs": []
    },
    {
      "cell_type": "code",
      "source": [
        "x = cp.arange(10, dtype=np.float32).reshape(2, 5)"
      ],
      "metadata": {
        "id": "mLnHuXMuiNoL"
      },
      "execution_count": 9,
      "outputs": []
    },
    {
      "cell_type": "code",
      "source": [
        "%timeit frobenius_norm_np(x)"
      ],
      "metadata": {
        "colab": {
          "base_uri": "https://localhost:8080/"
        },
        "id": "oRxoacxWi6Al",
        "outputId": "64292b95-5f80-451e-f799-9b52f1b62c5d"
      },
      "execution_count": 92,
      "outputs": [
        {
          "output_type": "stream",
          "name": "stdout",
          "text": [
            "264 µs ± 6.59 µs per loop (mean ± std. dev. of 7 runs, 1000 loops each)\n"
          ]
        }
      ]
    },
    {
      "cell_type": "code",
      "source": [
        "%timeit frobenius_norm_cp(x)"
      ],
      "metadata": {
        "colab": {
          "base_uri": "https://localhost:8080/"
        },
        "id": "yNbfiBYNi5vX",
        "outputId": "d521ad53-6196-461e-92e1-a22672ff9ad0"
      },
      "execution_count": 93,
      "outputs": [
        {
          "output_type": "stream",
          "name": "stdout",
          "text": [
            "119 µs ± 11.9 µs per loop (mean ± std. dev. of 7 runs, 10000 loops each)\n"
          ]
        }
      ]
    },
    {
      "cell_type": "code",
      "source": [
        "%timeit frobenius_norm_kernel(x)"
      ],
      "metadata": {
        "colab": {
          "base_uri": "https://localhost:8080/"
        },
        "id": "ERaHtwf4i5sM",
        "outputId": "c64acf04-558d-44cc-b8ba-a0fc1b79e3e2"
      },
      "execution_count": 94,
      "outputs": [
        {
          "output_type": "stream",
          "name": "stdout",
          "text": [
            "104 µs ± 838 ns per loop (mean ± std. dev. of 7 runs, 10000 loops each)\n"
          ]
        }
      ]
    },
    {
      "cell_type": "markdown",
      "metadata": {
        "id": "BoAo0iqIkKi9"
      },
      "source": [
        "# Домашнее задание 2\n",
        "\n",
        "Сравните среднюю вероятность смерти мужчин и женщин по группам возрастов на основе столбца death_ind. Тоже самое проделайте для вероятности госпитализации, преобразовав переменную hosp_yn, как мы сделали с переменной death_yn."
      ]
    },
    {
      "cell_type": "code",
      "source": [
        "gdf = cudf.read_parquet('covid.gzip')"
      ],
      "metadata": {
        "id": "9ONWII2LkXkN"
      },
      "execution_count": 14,
      "outputs": []
    },
    {
      "cell_type": "code",
      "source": [
        "gdf = gdf.dropna()"
      ],
      "metadata": {
        "id": "NUHUtuQ8k0bU"
      },
      "execution_count": 15,
      "outputs": []
    },
    {
      "cell_type": "code",
      "source": [
        "gdf['death_ind'] = gdf['death_yn'].apply(lambda x: 1 if x=='Yes' else 0)"
      ],
      "metadata": {
        "id": "QGOnXZwc2QVy"
      },
      "execution_count": 16,
      "outputs": []
    },
    {
      "cell_type": "code",
      "source": [
        "gdf['hosp_ind'] = gdf['hosp_yn'].apply(lambda x: 1 if x=='Yes' else 0)"
      ],
      "metadata": {
        "id": "4M9WQ7VM2QSb"
      },
      "execution_count": 17,
      "outputs": []
    },
    {
      "cell_type": "code",
      "source": [
        "result_death_ind = gdf.groupby(['sex', 'age_group'])['death_ind'].mean().reset_index()\n",
        "\n",
        "result_hosp_ind = gdf.groupby(['sex', 'age_group'])['hosp_ind'].mean().reset_index()"
      ],
      "metadata": {
        "id": "PjyU8EfFcT2V"
      },
      "execution_count": 18,
      "outputs": []
    },
    {
      "cell_type": "code",
      "source": [
        "male_death_df = result_death_ind[result_death_ind['sex'] == 'Male'].drop('sex', axis=1).set_index('age_group')\n",
        "female_death_df = result_death_ind[result_death_ind['sex'] == 'Female'].drop('sex', axis=1).set_index('age_group')\n",
        "\n",
        "male_hosp_df = result_hosp_ind[result_hosp_ind['sex'] == 'Male'].drop('sex', axis=1).set_index('age_group')\n",
        "female_hosp_df = result_hosp_ind[result_hosp_ind['sex'] == 'Female'].drop('sex', axis=1).set_index('age_group')"
      ],
      "metadata": {
        "id": "QKGiGe4IcP1f"
      },
      "execution_count": 19,
      "outputs": []
    },
    {
      "cell_type": "code",
      "source": [
        "male_death_df = male_death_df.rename(columns={'death_ind': 'male_death_pr'})\n",
        "female_death_df = female_death_df.rename(columns={'death_ind': 'female_death_pr'})\n",
        "\n",
        "male_hosp_df = male_hosp_df.rename(columns={'hosp_ind': 'male_hosp_pr'})\n",
        "female_hosp_df = female_hosp_df.rename(columns={'hosp_ind': 'female_hosp_pr'})"
      ],
      "metadata": {
        "id": "RaKWGFoKcXAD"
      },
      "execution_count": 20,
      "outputs": []
    },
    {
      "cell_type": "code",
      "source": [
        "combined_death_df = male_death_df.join(female_death_df, how='outer').sort_index()\n",
        "\n",
        "combined_hosp_df = male_hosp_df.join(female_hosp_df, how='outer').sort_index()"
      ],
      "metadata": {
        "id": "U5U8Ihs2cW9A"
      },
      "execution_count": 21,
      "outputs": []
    },
    {
      "cell_type": "code",
      "source": [
        "combined_death_df"
      ],
      "metadata": {
        "colab": {
          "base_uri": "https://localhost:8080/",
          "height": 394
        },
        "id": "DHAmdTVIcdG-",
        "outputId": "b0164f91-9ead-4490-de7f-9c545e07ede8"
      },
      "execution_count": 22,
      "outputs": [
        {
          "output_type": "execute_result",
          "data": {
            "text/plain": [
              "               male_death_pr  female_death_pr\n",
              "age_group                                    \n",
              "0 - 9 Years         0.000257         0.000223\n",
              "10 - 19 Years       0.000191         0.000134\n",
              "20 - 29 Years       0.000725         0.000345\n",
              "30 - 39 Years       0.002290         0.001076\n",
              "40 - 49 Years       0.006098         0.002635\n",
              "50 - 59 Years       0.015651         0.007524\n",
              "60 - 69 Years       0.044501         0.025573\n",
              "70 - 79 Years       0.114141         0.076018\n",
              "80+ Years           0.267811         0.199618\n",
              "Unknown             0.000355         0.000394"
            ],
            "text/html": [
              "<div>\n",
              "<style scoped>\n",
              "    .dataframe tbody tr th:only-of-type {\n",
              "        vertical-align: middle;\n",
              "    }\n",
              "\n",
              "    .dataframe tbody tr th {\n",
              "        vertical-align: top;\n",
              "    }\n",
              "\n",
              "    .dataframe thead th {\n",
              "        text-align: right;\n",
              "    }\n",
              "</style>\n",
              "<table border=\"1\" class=\"dataframe\">\n",
              "  <thead>\n",
              "    <tr style=\"text-align: right;\">\n",
              "      <th></th>\n",
              "      <th>male_death_pr</th>\n",
              "      <th>female_death_pr</th>\n",
              "    </tr>\n",
              "    <tr>\n",
              "      <th>age_group</th>\n",
              "      <th></th>\n",
              "      <th></th>\n",
              "    </tr>\n",
              "  </thead>\n",
              "  <tbody>\n",
              "    <tr>\n",
              "      <th>0 - 9 Years</th>\n",
              "      <td>0.000257</td>\n",
              "      <td>0.000223</td>\n",
              "    </tr>\n",
              "    <tr>\n",
              "      <th>10 - 19 Years</th>\n",
              "      <td>0.000191</td>\n",
              "      <td>0.000134</td>\n",
              "    </tr>\n",
              "    <tr>\n",
              "      <th>20 - 29 Years</th>\n",
              "      <td>0.000725</td>\n",
              "      <td>0.000345</td>\n",
              "    </tr>\n",
              "    <tr>\n",
              "      <th>30 - 39 Years</th>\n",
              "      <td>0.002290</td>\n",
              "      <td>0.001076</td>\n",
              "    </tr>\n",
              "    <tr>\n",
              "      <th>40 - 49 Years</th>\n",
              "      <td>0.006098</td>\n",
              "      <td>0.002635</td>\n",
              "    </tr>\n",
              "    <tr>\n",
              "      <th>50 - 59 Years</th>\n",
              "      <td>0.015651</td>\n",
              "      <td>0.007524</td>\n",
              "    </tr>\n",
              "    <tr>\n",
              "      <th>60 - 69 Years</th>\n",
              "      <td>0.044501</td>\n",
              "      <td>0.025573</td>\n",
              "    </tr>\n",
              "    <tr>\n",
              "      <th>70 - 79 Years</th>\n",
              "      <td>0.114141</td>\n",
              "      <td>0.076018</td>\n",
              "    </tr>\n",
              "    <tr>\n",
              "      <th>80+ Years</th>\n",
              "      <td>0.267811</td>\n",
              "      <td>0.199618</td>\n",
              "    </tr>\n",
              "    <tr>\n",
              "      <th>Unknown</th>\n",
              "      <td>0.000355</td>\n",
              "      <td>0.000394</td>\n",
              "    </tr>\n",
              "  </tbody>\n",
              "</table>\n",
              "</div>"
            ]
          },
          "metadata": {},
          "execution_count": 22
        }
      ]
    },
    {
      "cell_type": "code",
      "source": [
        "combined_hosp_df"
      ],
      "metadata": {
        "colab": {
          "base_uri": "https://localhost:8080/",
          "height": 394
        },
        "id": "Eb3bE2d4ez7E",
        "outputId": "09c3815d-df01-470f-f974-d7adfb6b0102"
      },
      "execution_count": 23,
      "outputs": [
        {
          "output_type": "execute_result",
          "data": {
            "text/plain": [
              "               male_hosp_pr  female_hosp_pr\n",
              "age_group                                  \n",
              "0 - 9 Years        0.015900        0.014042\n",
              "10 - 19 Years      0.008124        0.009225\n",
              "20 - 29 Years      0.013744        0.019351\n",
              "30 - 39 Years      0.031092        0.030775\n",
              "40 - 49 Years      0.054479        0.039122\n",
              "50 - 59 Years      0.085752        0.061315\n",
              "60 - 69 Years      0.143717        0.108478\n",
              "70 - 79 Years      0.240449        0.189835\n",
              "80+ Years          0.322185        0.224683\n",
              "Unknown            0.005113        0.004532"
            ],
            "text/html": [
              "<div>\n",
              "<style scoped>\n",
              "    .dataframe tbody tr th:only-of-type {\n",
              "        vertical-align: middle;\n",
              "    }\n",
              "\n",
              "    .dataframe tbody tr th {\n",
              "        vertical-align: top;\n",
              "    }\n",
              "\n",
              "    .dataframe thead th {\n",
              "        text-align: right;\n",
              "    }\n",
              "</style>\n",
              "<table border=\"1\" class=\"dataframe\">\n",
              "  <thead>\n",
              "    <tr style=\"text-align: right;\">\n",
              "      <th></th>\n",
              "      <th>male_hosp_pr</th>\n",
              "      <th>female_hosp_pr</th>\n",
              "    </tr>\n",
              "    <tr>\n",
              "      <th>age_group</th>\n",
              "      <th></th>\n",
              "      <th></th>\n",
              "    </tr>\n",
              "  </thead>\n",
              "  <tbody>\n",
              "    <tr>\n",
              "      <th>0 - 9 Years</th>\n",
              "      <td>0.015900</td>\n",
              "      <td>0.014042</td>\n",
              "    </tr>\n",
              "    <tr>\n",
              "      <th>10 - 19 Years</th>\n",
              "      <td>0.008124</td>\n",
              "      <td>0.009225</td>\n",
              "    </tr>\n",
              "    <tr>\n",
              "      <th>20 - 29 Years</th>\n",
              "      <td>0.013744</td>\n",
              "      <td>0.019351</td>\n",
              "    </tr>\n",
              "    <tr>\n",
              "      <th>30 - 39 Years</th>\n",
              "      <td>0.031092</td>\n",
              "      <td>0.030775</td>\n",
              "    </tr>\n",
              "    <tr>\n",
              "      <th>40 - 49 Years</th>\n",
              "      <td>0.054479</td>\n",
              "      <td>0.039122</td>\n",
              "    </tr>\n",
              "    <tr>\n",
              "      <th>50 - 59 Years</th>\n",
              "      <td>0.085752</td>\n",
              "      <td>0.061315</td>\n",
              "    </tr>\n",
              "    <tr>\n",
              "      <th>60 - 69 Years</th>\n",
              "      <td>0.143717</td>\n",
              "      <td>0.108478</td>\n",
              "    </tr>\n",
              "    <tr>\n",
              "      <th>70 - 79 Years</th>\n",
              "      <td>0.240449</td>\n",
              "      <td>0.189835</td>\n",
              "    </tr>\n",
              "    <tr>\n",
              "      <th>80+ Years</th>\n",
              "      <td>0.322185</td>\n",
              "      <td>0.224683</td>\n",
              "    </tr>\n",
              "    <tr>\n",
              "      <th>Unknown</th>\n",
              "      <td>0.005113</td>\n",
              "      <td>0.004532</td>\n",
              "    </tr>\n",
              "  </tbody>\n",
              "</table>\n",
              "</div>"
            ]
          },
          "metadata": {},
          "execution_count": 23
        }
      ]
    },
    {
      "cell_type": "markdown",
      "source": [
        "# Домашнее задание 3\n",
        "\n",
        "Аналогично заданию 2, но теперь при помощи dask_cudf"
      ],
      "metadata": {
        "id": "Qugu5P5Pc1yS"
      }
    },
    {
      "cell_type": "code",
      "source": [
        "dask_gdf = dask_cudf.read_parquet('covid.gzip')"
      ],
      "metadata": {
        "id": "O96dyD1EdHXX"
      },
      "execution_count": 83,
      "outputs": []
    },
    {
      "cell_type": "code",
      "source": [
        "dask_gdf = dask_gdf.dropna()"
      ],
      "metadata": {
        "id": "N3mqQfHQloiv"
      },
      "execution_count": 84,
      "outputs": []
    },
    {
      "cell_type": "code",
      "source": [
        "death_func = lambda x: 1 if x == 'Yes' else 0\n",
        "hosp_func = lambda x: 1 if x == 'Yes' else 0\n",
        "\n",
        "dask_gdf['death_ind'] = dask_gdf['death_yn'].map_partitions(lambda x: x.apply(death_func))\n",
        "dask_gdf['hosp_ind'] = dask_gdf['hosp_yn'].map_partitions(lambda x: x.apply(hosp_func))"
      ],
      "metadata": {
        "id": "UZ-0n8UDg8yq"
      },
      "execution_count": 85,
      "outputs": []
    },
    {
      "cell_type": "code",
      "source": [
        "result_death_ind = dask_gdf.groupby(['sex', 'age_group'])['death_ind'].mean().reset_index()\n",
        "\n",
        "result_hosp_ind = dask_gdf.groupby(['sex', 'age_group'])['hosp_ind'].mean().reset_index()"
      ],
      "metadata": {
        "id": "YoChja29fJhC"
      },
      "execution_count": 86,
      "outputs": []
    },
    {
      "cell_type": "code",
      "source": [
        "male_death_df = result_death_ind[result_death_ind['sex'] == 'Male'].drop('sex', axis=1).set_index('age_group')\n",
        "female_death_df = result_death_ind[result_death_ind['sex'] == 'Female'].drop('sex', axis=1).set_index('age_group')\n",
        "\n",
        "male_hosp_df = result_hosp_ind[result_hosp_ind['sex'] == 'Male'].drop('sex', axis=1).set_index('age_group')\n",
        "female_hosp_df = result_hosp_ind[result_hosp_ind['sex'] == 'Female'].drop('sex', axis=1).set_index('age_group')"
      ],
      "metadata": {
        "id": "DS6gGYn3fJhC"
      },
      "execution_count": 87,
      "outputs": []
    },
    {
      "cell_type": "code",
      "source": [
        "male_death_df = male_death_df.rename(columns={'death_ind': 'male_death_pr'})\n",
        "female_death_df = female_death_df.rename(columns={'death_ind': 'female_death_pr'})\n",
        "\n",
        "male_hosp_df = male_hosp_df.rename(columns={'hosp_ind': 'male_hosp_pr'})\n",
        "female_hosp_df = female_hosp_df.rename(columns={'hosp_ind': 'female_hosp_pr'})"
      ],
      "metadata": {
        "id": "QgpHaF96fJhD"
      },
      "execution_count": 88,
      "outputs": []
    },
    {
      "cell_type": "code",
      "source": [
        "combined_death_df = male_death_df.join(female_death_df, how='outer').sort_values('age_group')\n",
        "\n",
        "combined_hosp_df = male_hosp_df.join(female_hosp_df, how='outer').sort_values('age_group')"
      ],
      "metadata": {
        "id": "NVD4pyNqfJhD"
      },
      "execution_count": 89,
      "outputs": []
    },
    {
      "cell_type": "code",
      "source": [
        "combined_death_df.compute()"
      ],
      "metadata": {
        "colab": {
          "base_uri": "https://localhost:8080/",
          "height": 394
        },
        "id": "UbgZsyAZfVK9",
        "outputId": "4bd1aa19-e775-4d7b-ade8-a669213abaec"
      },
      "execution_count": 90,
      "outputs": [
        {
          "output_type": "execute_result",
          "data": {
            "text/plain": [
              "               male_death_pr  female_death_pr\n",
              "age_group                                    \n",
              "0 - 9 Years         0.000257         0.000223\n",
              "10 - 19 Years       0.000191         0.000134\n",
              "20 - 29 Years       0.000725         0.000345\n",
              "30 - 39 Years       0.002290         0.001076\n",
              "40 - 49 Years       0.006098         0.002635\n",
              "50 - 59 Years       0.015651         0.007524\n",
              "60 - 69 Years       0.044501         0.025573\n",
              "70 - 79 Years       0.114141         0.076018\n",
              "80+ Years           0.267811         0.199618\n",
              "Unknown             0.000355         0.000394"
            ],
            "text/html": [
              "<div>\n",
              "<style scoped>\n",
              "    .dataframe tbody tr th:only-of-type {\n",
              "        vertical-align: middle;\n",
              "    }\n",
              "\n",
              "    .dataframe tbody tr th {\n",
              "        vertical-align: top;\n",
              "    }\n",
              "\n",
              "    .dataframe thead th {\n",
              "        text-align: right;\n",
              "    }\n",
              "</style>\n",
              "<table border=\"1\" class=\"dataframe\">\n",
              "  <thead>\n",
              "    <tr style=\"text-align: right;\">\n",
              "      <th></th>\n",
              "      <th>male_death_pr</th>\n",
              "      <th>female_death_pr</th>\n",
              "    </tr>\n",
              "    <tr>\n",
              "      <th>age_group</th>\n",
              "      <th></th>\n",
              "      <th></th>\n",
              "    </tr>\n",
              "  </thead>\n",
              "  <tbody>\n",
              "    <tr>\n",
              "      <th>0 - 9 Years</th>\n",
              "      <td>0.000257</td>\n",
              "      <td>0.000223</td>\n",
              "    </tr>\n",
              "    <tr>\n",
              "      <th>10 - 19 Years</th>\n",
              "      <td>0.000191</td>\n",
              "      <td>0.000134</td>\n",
              "    </tr>\n",
              "    <tr>\n",
              "      <th>20 - 29 Years</th>\n",
              "      <td>0.000725</td>\n",
              "      <td>0.000345</td>\n",
              "    </tr>\n",
              "    <tr>\n",
              "      <th>30 - 39 Years</th>\n",
              "      <td>0.002290</td>\n",
              "      <td>0.001076</td>\n",
              "    </tr>\n",
              "    <tr>\n",
              "      <th>40 - 49 Years</th>\n",
              "      <td>0.006098</td>\n",
              "      <td>0.002635</td>\n",
              "    </tr>\n",
              "    <tr>\n",
              "      <th>50 - 59 Years</th>\n",
              "      <td>0.015651</td>\n",
              "      <td>0.007524</td>\n",
              "    </tr>\n",
              "    <tr>\n",
              "      <th>60 - 69 Years</th>\n",
              "      <td>0.044501</td>\n",
              "      <td>0.025573</td>\n",
              "    </tr>\n",
              "    <tr>\n",
              "      <th>70 - 79 Years</th>\n",
              "      <td>0.114141</td>\n",
              "      <td>0.076018</td>\n",
              "    </tr>\n",
              "    <tr>\n",
              "      <th>80+ Years</th>\n",
              "      <td>0.267811</td>\n",
              "      <td>0.199618</td>\n",
              "    </tr>\n",
              "    <tr>\n",
              "      <th>Unknown</th>\n",
              "      <td>0.000355</td>\n",
              "      <td>0.000394</td>\n",
              "    </tr>\n",
              "  </tbody>\n",
              "</table>\n",
              "</div>"
            ]
          },
          "metadata": {},
          "execution_count": 90
        }
      ]
    },
    {
      "cell_type": "code",
      "source": [
        "combined_hosp_df.compute()"
      ],
      "metadata": {
        "colab": {
          "base_uri": "https://localhost:8080/",
          "height": 394
        },
        "id": "U9vBZnjifU69",
        "outputId": "76afcd58-4177-40b4-f5e2-2914a4f3f181"
      },
      "execution_count": 91,
      "outputs": [
        {
          "output_type": "execute_result",
          "data": {
            "text/plain": [
              "               male_hosp_pr  female_hosp_pr\n",
              "age_group                                  \n",
              "0 - 9 Years        0.015900        0.014042\n",
              "10 - 19 Years      0.008124        0.009225\n",
              "20 - 29 Years      0.013744        0.019351\n",
              "30 - 39 Years      0.031092        0.030775\n",
              "40 - 49 Years      0.054479        0.039122\n",
              "50 - 59 Years      0.085752        0.061315\n",
              "60 - 69 Years      0.143717        0.108478\n",
              "70 - 79 Years      0.240449        0.189835\n",
              "80+ Years          0.322185        0.224683\n",
              "Unknown            0.005113        0.004532"
            ],
            "text/html": [
              "<div>\n",
              "<style scoped>\n",
              "    .dataframe tbody tr th:only-of-type {\n",
              "        vertical-align: middle;\n",
              "    }\n",
              "\n",
              "    .dataframe tbody tr th {\n",
              "        vertical-align: top;\n",
              "    }\n",
              "\n",
              "    .dataframe thead th {\n",
              "        text-align: right;\n",
              "    }\n",
              "</style>\n",
              "<table border=\"1\" class=\"dataframe\">\n",
              "  <thead>\n",
              "    <tr style=\"text-align: right;\">\n",
              "      <th></th>\n",
              "      <th>male_hosp_pr</th>\n",
              "      <th>female_hosp_pr</th>\n",
              "    </tr>\n",
              "    <tr>\n",
              "      <th>age_group</th>\n",
              "      <th></th>\n",
              "      <th></th>\n",
              "    </tr>\n",
              "  </thead>\n",
              "  <tbody>\n",
              "    <tr>\n",
              "      <th>0 - 9 Years</th>\n",
              "      <td>0.015900</td>\n",
              "      <td>0.014042</td>\n",
              "    </tr>\n",
              "    <tr>\n",
              "      <th>10 - 19 Years</th>\n",
              "      <td>0.008124</td>\n",
              "      <td>0.009225</td>\n",
              "    </tr>\n",
              "    <tr>\n",
              "      <th>20 - 29 Years</th>\n",
              "      <td>0.013744</td>\n",
              "      <td>0.019351</td>\n",
              "    </tr>\n",
              "    <tr>\n",
              "      <th>30 - 39 Years</th>\n",
              "      <td>0.031092</td>\n",
              "      <td>0.030775</td>\n",
              "    </tr>\n",
              "    <tr>\n",
              "      <th>40 - 49 Years</th>\n",
              "      <td>0.054479</td>\n",
              "      <td>0.039122</td>\n",
              "    </tr>\n",
              "    <tr>\n",
              "      <th>50 - 59 Years</th>\n",
              "      <td>0.085752</td>\n",
              "      <td>0.061315</td>\n",
              "    </tr>\n",
              "    <tr>\n",
              "      <th>60 - 69 Years</th>\n",
              "      <td>0.143717</td>\n",
              "      <td>0.108478</td>\n",
              "    </tr>\n",
              "    <tr>\n",
              "      <th>70 - 79 Years</th>\n",
              "      <td>0.240449</td>\n",
              "      <td>0.189835</td>\n",
              "    </tr>\n",
              "    <tr>\n",
              "      <th>80+ Years</th>\n",
              "      <td>0.322185</td>\n",
              "      <td>0.224683</td>\n",
              "    </tr>\n",
              "    <tr>\n",
              "      <th>Unknown</th>\n",
              "      <td>0.005113</td>\n",
              "      <td>0.004532</td>\n",
              "    </tr>\n",
              "  </tbody>\n",
              "</table>\n",
              "</div>"
            ]
          },
          "metadata": {},
          "execution_count": 91
        }
      ]
    },
    {
      "cell_type": "markdown",
      "metadata": {
        "id": "wcFkyfixtcLV"
      },
      "source": [
        "# Домашнее задание 4\n",
        "\n",
        "Аналогично заданию 2, но теперь Polars c GPU"
      ]
    },
    {
      "cell_type": "code",
      "source": [
        "df_pl = pl.scan_parquet('covid.gzip')"
      ],
      "metadata": {
        "id": "NRxeW4ICcCZx"
      },
      "execution_count": 34,
      "outputs": []
    },
    {
      "cell_type": "code",
      "source": [
        "gpu_engine = pl.GPUEngine(\n",
        "    device=0,\n",
        "    raise_on_fail=True\n",
        ")"
      ],
      "metadata": {
        "id": "PHtpp7URcCLl"
      },
      "execution_count": 35,
      "outputs": []
    },
    {
      "cell_type": "code",
      "source": [
        "df_pl = df_pl.drop_nulls()"
      ],
      "metadata": {
        "id": "wycrKo8OcCGN"
      },
      "execution_count": 36,
      "outputs": []
    },
    {
      "cell_type": "code",
      "source": [
        "df_pl = df_pl.with_columns(\n",
        "    pl.when(pl.col('death_yn') == 'Yes').then(1).otherwise(0).alias('death_ind')\n",
        ")"
      ],
      "metadata": {
        "id": "E8tn4u-pBC01"
      },
      "execution_count": 37,
      "outputs": []
    },
    {
      "cell_type": "code",
      "source": [
        "df_pl = df_pl.with_columns(\n",
        "    pl.when(pl.col('hosp_yn') == 'Yes').then(1).otherwise(0).alias('hosp_ind')\n",
        ")"
      ],
      "metadata": {
        "id": "11ySfb83-AMr"
      },
      "execution_count": 38,
      "outputs": []
    },
    {
      "cell_type": "code",
      "source": [
        "male_death_pr = df_pl.filter(pl.col('sex')=='Male')\\\n",
        "               .group_by('age_group')\\\n",
        "               .agg(pl.col('death_ind').mean().alias('male_death_pr'))"
      ],
      "metadata": {
        "id": "Pw_4uEo98tJJ"
      },
      "execution_count": 39,
      "outputs": []
    },
    {
      "cell_type": "code",
      "source": [
        "female_death_pr = df_pl.filter(pl.col('sex')=='Female')\\\n",
        "               .group_by('age_group')\\\n",
        "               .agg(pl.col('death_ind').mean().alias('female_death_pr'))"
      ],
      "metadata": {
        "id": "DhOdF3V_gJo_"
      },
      "execution_count": 40,
      "outputs": []
    },
    {
      "cell_type": "code",
      "source": [
        "death_pr = male_death_pr.join(female_death_pr, on='age_group', how='full')"
      ],
      "metadata": {
        "id": "368mJXczgg_e"
      },
      "execution_count": 41,
      "outputs": []
    },
    {
      "cell_type": "code",
      "source": [
        "death_pr = death_pr.drop('age_group_right').sort(by='age_group', descending=False)"
      ],
      "metadata": {
        "id": "mkHywEQrh6KR"
      },
      "execution_count": 42,
      "outputs": []
    },
    {
      "cell_type": "code",
      "source": [
        "death_pr.collect(engine=gpu_engine)"
      ],
      "metadata": {
        "colab": {
          "base_uri": "https://localhost:8080/",
          "height": 411
        },
        "id": "t_2foabDgvV_",
        "outputId": "d3e64049-e8c4-431f-b315-f31c7b91be66"
      },
      "execution_count": 43,
      "outputs": [
        {
          "output_type": "execute_result",
          "data": {
            "text/plain": [
              "shape: (10, 3)\n",
              "┌───────────────┬───────────────┬─────────────────┐\n",
              "│ age_group     ┆ male_death_pr ┆ female_death_pr │\n",
              "│ ---           ┆ ---           ┆ ---             │\n",
              "│ str           ┆ f64           ┆ f64             │\n",
              "╞═══════════════╪═══════════════╪═════════════════╡\n",
              "│ 0 - 9 Years   ┆ 0.000257      ┆ 0.000223        │\n",
              "│ 10 - 19 Years ┆ 0.000191      ┆ 0.000134        │\n",
              "│ 20 - 29 Years ┆ 0.000725      ┆ 0.000345        │\n",
              "│ 30 - 39 Years ┆ 0.00229       ┆ 0.001076        │\n",
              "│ 40 - 49 Years ┆ 0.006098      ┆ 0.002635        │\n",
              "│ 50 - 59 Years ┆ 0.015651      ┆ 0.007524        │\n",
              "│ 60 - 69 Years ┆ 0.044501      ┆ 0.025573        │\n",
              "│ 70 - 79 Years ┆ 0.114141      ┆ 0.076018        │\n",
              "│ 80+ Years     ┆ 0.267811      ┆ 0.199618        │\n",
              "│ Unknown       ┆ 0.000355      ┆ 0.000394        │\n",
              "└───────────────┴───────────────┴─────────────────┘"
            ],
            "text/html": [
              "<div><style>\n",
              ".dataframe > thead > tr,\n",
              ".dataframe > tbody > tr {\n",
              "  text-align: right;\n",
              "  white-space: pre-wrap;\n",
              "}\n",
              "</style>\n",
              "<small>shape: (10, 3)</small><table border=\"1\" class=\"dataframe\"><thead><tr><th>age_group</th><th>male_death_pr</th><th>female_death_pr</th></tr><tr><td>str</td><td>f64</td><td>f64</td></tr></thead><tbody><tr><td>&quot;0 - 9 Years&quot;</td><td>0.000257</td><td>0.000223</td></tr><tr><td>&quot;10 - 19 Years&quot;</td><td>0.000191</td><td>0.000134</td></tr><tr><td>&quot;20 - 29 Years&quot;</td><td>0.000725</td><td>0.000345</td></tr><tr><td>&quot;30 - 39 Years&quot;</td><td>0.00229</td><td>0.001076</td></tr><tr><td>&quot;40 - 49 Years&quot;</td><td>0.006098</td><td>0.002635</td></tr><tr><td>&quot;50 - 59 Years&quot;</td><td>0.015651</td><td>0.007524</td></tr><tr><td>&quot;60 - 69 Years&quot;</td><td>0.044501</td><td>0.025573</td></tr><tr><td>&quot;70 - 79 Years&quot;</td><td>0.114141</td><td>0.076018</td></tr><tr><td>&quot;80+ Years&quot;</td><td>0.267811</td><td>0.199618</td></tr><tr><td>&quot;Unknown&quot;</td><td>0.000355</td><td>0.000394</td></tr></tbody></table></div>"
            ]
          },
          "metadata": {},
          "execution_count": 43
        }
      ]
    },
    {
      "cell_type": "code",
      "source": [
        "male_hosp_pr = df_pl.filter(pl.col('sex')=='Male')\\\n",
        "               .group_by('age_group')\\\n",
        "               .agg(pl.col('hosp_ind').mean().alias('male_hosp_pr'))"
      ],
      "metadata": {
        "id": "EvBfiu-TiYy-"
      },
      "execution_count": 44,
      "outputs": []
    },
    {
      "cell_type": "code",
      "source": [
        "female_hosp_pr = df_pl.filter(pl.col('sex')=='Female')\\\n",
        "               .group_by('age_group')\\\n",
        "               .agg(pl.col('hosp_ind').mean().alias('female_hosp_pr'))"
      ],
      "metadata": {
        "id": "UaDvwZ6DiYv0"
      },
      "execution_count": 45,
      "outputs": []
    },
    {
      "cell_type": "code",
      "source": [
        "hosp_pr = male_hosp_pr.join(female_hosp_pr, on='age_group', how='full')"
      ],
      "metadata": {
        "id": "41Jj3tlGiYtL"
      },
      "execution_count": 46,
      "outputs": []
    },
    {
      "cell_type": "code",
      "source": [
        "hosp_pr = hosp_pr.drop('age_group_right').sort(by='age_group', descending=False)"
      ],
      "metadata": {
        "id": "G29FcXFdiYll"
      },
      "execution_count": 47,
      "outputs": []
    },
    {
      "cell_type": "code",
      "source": [
        "hosp_pr.collect(engine=gpu_engine)"
      ],
      "metadata": {
        "colab": {
          "base_uri": "https://localhost:8080/",
          "height": 411
        },
        "id": "7q2yT8X0igsX",
        "outputId": "398ccf7a-caee-4d53-ab6d-9afbe0a90396"
      },
      "execution_count": 48,
      "outputs": [
        {
          "output_type": "execute_result",
          "data": {
            "text/plain": [
              "shape: (10, 3)\n",
              "┌───────────────┬──────────────┬────────────────┐\n",
              "│ age_group     ┆ male_hosp_pr ┆ female_hosp_pr │\n",
              "│ ---           ┆ ---          ┆ ---            │\n",
              "│ str           ┆ f64          ┆ f64            │\n",
              "╞═══════════════╪══════════════╪════════════════╡\n",
              "│ 0 - 9 Years   ┆ 0.0159       ┆ 0.014042       │\n",
              "│ 10 - 19 Years ┆ 0.008124     ┆ 0.009225       │\n",
              "│ 20 - 29 Years ┆ 0.013744     ┆ 0.019351       │\n",
              "│ 30 - 39 Years ┆ 0.031092     ┆ 0.030775       │\n",
              "│ 40 - 49 Years ┆ 0.054479     ┆ 0.039122       │\n",
              "│ 50 - 59 Years ┆ 0.085752     ┆ 0.061315       │\n",
              "│ 60 - 69 Years ┆ 0.143717     ┆ 0.108478       │\n",
              "│ 70 - 79 Years ┆ 0.240449     ┆ 0.189835       │\n",
              "│ 80+ Years     ┆ 0.322185     ┆ 0.224683       │\n",
              "│ Unknown       ┆ 0.005113     ┆ 0.004532       │\n",
              "└───────────────┴──────────────┴────────────────┘"
            ],
            "text/html": [
              "<div><style>\n",
              ".dataframe > thead > tr,\n",
              ".dataframe > tbody > tr {\n",
              "  text-align: right;\n",
              "  white-space: pre-wrap;\n",
              "}\n",
              "</style>\n",
              "<small>shape: (10, 3)</small><table border=\"1\" class=\"dataframe\"><thead><tr><th>age_group</th><th>male_hosp_pr</th><th>female_hosp_pr</th></tr><tr><td>str</td><td>f64</td><td>f64</td></tr></thead><tbody><tr><td>&quot;0 - 9 Years&quot;</td><td>0.0159</td><td>0.014042</td></tr><tr><td>&quot;10 - 19 Years&quot;</td><td>0.008124</td><td>0.009225</td></tr><tr><td>&quot;20 - 29 Years&quot;</td><td>0.013744</td><td>0.019351</td></tr><tr><td>&quot;30 - 39 Years&quot;</td><td>0.031092</td><td>0.030775</td></tr><tr><td>&quot;40 - 49 Years&quot;</td><td>0.054479</td><td>0.039122</td></tr><tr><td>&quot;50 - 59 Years&quot;</td><td>0.085752</td><td>0.061315</td></tr><tr><td>&quot;60 - 69 Years&quot;</td><td>0.143717</td><td>0.108478</td></tr><tr><td>&quot;70 - 79 Years&quot;</td><td>0.240449</td><td>0.189835</td></tr><tr><td>&quot;80+ Years&quot;</td><td>0.322185</td><td>0.224683</td></tr><tr><td>&quot;Unknown&quot;</td><td>0.005113</td><td>0.004532</td></tr></tbody></table></div>"
            ]
          },
          "metadata": {},
          "execution_count": 48
        }
      ]
    }
  ]
}